{
 "cells": [
  {
   "cell_type": "code",
   "execution_count": 2,
   "metadata": {},
   "outputs": [
    {
     "name": "stdout",
     "output_type": "stream",
     "text": [
      "Populating the interactive namespace from numpy and matplotlib\n"
     ]
    }
   ],
   "source": [
    "%pylab inline\n",
    "\n",
    "%load_ext autoreload\n",
    "%autoreload 2"
   ]
  },
  {
   "cell_type": "code",
   "execution_count": 3,
   "metadata": {},
   "outputs": [],
   "source": [
    "import tensorflow as tf\n",
    "sys.path.append('../utils/')\n",
    "\n",
    "import contextlib\n",
    "import functools\n",
    "import math, time\n",
    "from scipy.interpolate import InterpolatedUnivariateSpline as iuspline\n",
    "import scipy.optimize as sopt\n"
   ]
  },
  {
   "cell_type": "code",
   "execution_count": 15,
   "metadata": {},
   "outputs": [],
   "source": [
    "from recurrent_inference import rim, ConvRIM3D\n",
    "from convolutional_recurrent import ConvLSTM3DCell\n",
    "from tensorflow.python.keras.layers import ConvLSTM2D\n",
    "from tensorflow.python.keras.layers.convolutional_recurrent import ConvLSTM2DCell\n",
    "from tensorflow.python.keras.layers import LSTMCell, LSTM, Dense\n",
    "\n"
   ]
  },
  {
   "cell_type": "code",
   "execution_count": 5,
   "metadata": {},
   "outputs": [],
   "source": [
    "nb_samples = 100\n",
    "batch_size = 16\n",
    "time_max_rim = 30\n",
    "time_max_gd = 60\n",
    "nb_epochs = 2\n",
    "\n",
    "size_train = 1000\n",
    "size_test = 500"
   ]
  },
  {
   "cell_type": "code",
   "execution_count": 6,
   "metadata": {},
   "outputs": [],
   "source": [
    "def simulate(x, A, sigma):\n",
    "    return np.dot(A,x) + np.random.normal(0,sigma, (2,))\n",
    "\n",
    "def generate_A():\n",
    "    D = np.diag(np.random.choice([-1,1], (2,)) * np.random.uniform(0.25, 1, (2,)))\n",
    "    theta = np.random.uniform(0,2*np.pi)\n",
    "    P = np.array([[np.cos(theta), -np.sin(theta)], [np.sin(theta), np.cos(theta)]])\n",
    "    return np.linalg.inv(P).dot(D).dot(P)\n",
    "\n",
    "def loss(x, y, A):\n",
    "    return 0.5 * x.T.dot(A.T).dot(A).dot(x) -  y.T.dot(A).dot(x)\n",
    "\n",
    "def gradient(x, y, A):\n",
    "    return A.T.dot(A.dot(x) - y)"
   ]
  },
  {
   "cell_type": "code",
   "execution_count": 213,
   "metadata": {},
   "outputs": [],
   "source": [
    "A_train = np.array([generate_A() for i in range(size_train)]).astype(float32)\n",
    "sigma_train = np.array([np.abs(np.random.uniform(0, 1)) for i in range(size_train)]).astype(float32)\n",
    "\n",
    "X_train = np.array([np.random.uniform(-5, 5, (2,)) for i in range(size_train)]).astype(float32)\n",
    "Y_train = np.array([simulate(x, A, sigma) for (x, A, sigma) in zip(X_train, A_train, sigma_train)]).astype(float32)\n",
    "X_min_train = np.array([np.linalg.inv(A).dot(y) for (A,y) in zip(A_train,Y_train)]).astype(float32)\n",
    "X0_train = np.array([x_min + np.random.uniform(-10,10,(2,)) for x_min in X_min_train]).astype(float32)"
   ]
  },
  {
   "cell_type": "code",
   "execution_count": 214,
   "metadata": {},
   "outputs": [],
   "source": [
    "A_test = np.array([generate_A() for i in range(size_test)]).astype(float32)\n",
    "sigma_test = np.array([np.abs(np.random.uniform(0, 1)) for i in range(size_test)]).astype(float32)\n",
    "\n",
    "X_test = np.array([np.random.uniform(-5, 5, (2,)) for i in range(size_test)]).astype(float32)\n",
    "Y_test = np.array([simulate(x, A, sigma) for (x, A, sigma) in zip(X_test, A_test, sigma_test)]).astype(float32)\n",
    "X_min_test = np.array([np.linalg.inv(A).dot(y) for (A,y) in zip(A_test,Y_test)]).astype(float32)\n",
    "X0_test = np.array([x_min + np.random.uniform(-10,10,(2,)) for x_min in X_min_test]).astype(float32)"
   ]
  },
  {
   "cell_type": "markdown",
   "metadata": {},
   "source": [
    "# GD"
   ]
  },
  {
   "cell_type": "code",
   "execution_count": 215,
   "metadata": {},
   "outputs": [],
   "source": [
    "lr = 0.1\n",
    "\n",
    "list_xt_gd = []\n",
    "for (x0, y, A) in zip(X0_test, Y_test, A_test):\n",
    "    xt = x0.copy()\n",
    "    list_xt = [x0]\n",
    "    for t in range(1, time_max_gd):\n",
    "        xt = xt - lr * gradient(xt, y, A)\n",
    "        list_xt.append(xt)\n",
    "    list_xt_gd.append(list_xt)\n",
    "list_xt_gd = np.array(list_xt_gd)"
   ]
  },
  {
   "cell_type": "code",
   "execution_count": 216,
   "metadata": {},
   "outputs": [],
   "source": [
    "\n",
    "extent_x, extent_y = 14, 6\n",
    "xx_grid = np.array([np.linspace(x_min[0]-extent_x, x_min[0]+extent_x, 50) for x_min in X_min_test])\n",
    "yy_grid = np.array([np.linspace(x_min[1]-extent_y, x_min[1]+extent_y, 50) for x_min in X_min_test])\n",
    "XY_grid = np.array([np.meshgrid(xx, yy) for (xx,yy) in zip(xx_grid, yy_grid)])\n",
    "X_grid = XY_grid[:,0,:,:]\n",
    "Y_grid = XY_grid[:,1,:,:]\n",
    "grid = np.concatenate([X_grid[:,:,:,np.newaxis], Y_grid[:,:,:,np.newaxis]], axis=3)\n",
    "Z_grid = np.array([np.apply_along_axis(lambda x: loss(x, y, A), 2, g) for (y,A,g) in zip(Y_test, A_test, grid)])\n",
    "colormap = np.array(plt.rcParams['axes.prop_cycle'].by_key()['color'])\n"
   ]
  },
  {
   "cell_type": "code",
   "execution_count": 217,
   "metadata": {},
   "outputs": [
    {
     "data": {
      "text/plain": [
       "<matplotlib.collections.PathCollection at 0x2aafae4d3d50>"
      ]
     },
     "execution_count": 217,
     "metadata": {},
     "output_type": "execute_result"
    },
    {
     "data": {
      "image/png": "[encoded data removed]",
      "text/plain": [
       "<Figure size 1440x504 with 2 Axes>"
      ]
     },
     "metadata": {
      "needs_background": "light"
     },
     "output_type": "display_data"
    }
   ],
   "source": [
    "i_example = 37\n",
    "\n",
    "plt.rcParams['figure.figsize'] = (20,7)\n",
    "plt.axis('equal')\n",
    "\n",
    "plt.contourf(X_grid[i_example], Y_grid[i_example], Z_grid[i_example], 20)\n",
    "plt.colorbar()\n",
    "plt.scatter(X_min_test[i_example][0], X_min_test[i_example][1], c=colormap[4])\n",
    "plt.scatter(X0_test[i_example][0], X0_test[i_example][1])\n",
    "\n",
    "plt.plot(list_xt_gd[i_example,:,0], list_xt_gd[i_example,:,1], color=colormap[1])\n",
    "plt.scatter(list_xt_gd[i_example,:,0], list_xt_gd[i_example,:,1], c=colormap[1])"
   ]
  },
  {
   "cell_type": "markdown",
   "metadata": {},
   "source": [
    "# Code RIM"
   ]
  },
  {
   "cell_type": "code",
   "execution_count": 218,
   "metadata": {},
   "outputs": [],
   "source": [
    "\n",
    "\n",
    "@tf.function\n",
    "def tf_fwdmodel(x, A):\n",
    "    return tf.matmul(x, A)\n",
    "\n",
    "\n",
    "@tf.function(\n",
    "    input_signature=[tf.TensorSpec(shape=(None, 2), dtype=tf.float32), \n",
    "                    tf.TensorSpec(shape=(None, 2), dtype=tf.float32), \n",
    "                    tf.TensorSpec(shape=(None, 2, 2), dtype=tf.float32)])\n",
    "def tf_loss(x, y, A):\n",
    "    print('loss')\n",
    "    x_t, y_t = tf.expand_dims(x, 1), tf.expand_dims(y, 1)\n",
    "    term1 = tf.vectorized_map(lambda a: 0.5 * tf.matmul(a[0], tf.matmul(tf.transpose(a[1]), tf.matmul(a[1], tf.transpose(a[0])))),\n",
    "                      (x_t, A))\n",
    "    term2 = tf.vectorized_map(lambda a: - tf.matmul(a[1], tf.matmul(a[2], tf.transpose(a[0]))), \n",
    "                      (x_t, y_t, A))\n",
    "    return tf.reduce_sum(term1 + term2)\n",
    "\n",
    "\n",
    "@tf.function\n",
    "def tf_loss_grad(x, y, A):\n",
    "    print('grad')\n",
    "    with tf.GradientTape() as tape:\n",
    "        tape.watch(x)\n",
    "        loss = tf_loss(x, y, A)\n",
    "    grad = tape.gradient(loss, x)\n",
    "    return grad\n",
    "\n",
    "\n",
    "\n"
   ]
  },
  {
   "cell_type": "code",
   "execution_count": 321,
   "metadata": {},
   "outputs": [],
   "source": [
    "class myRIM(tf.keras.Model):\n",
    "\n",
    "    def __init__(self, cell, output_layer, niter):\n",
    "        super(myRIM, self).__init__()\n",
    "        self.cell = cell\n",
    "        self.output_layer = output_layer\n",
    "        self.niter = niter\n",
    "\n",
    "            \n",
    "    def call(self, x_init, y, grad_fn, grad_args, initstates = None, return_steps=False):\n",
    "        \n",
    "        outputs_ta = tf.TensorArray(size=self.niter+1, dtype=tf.float32)\n",
    "        states_ta = tf.TensorArray(size=self.niter+1, dtype=tf.float32)\n",
    "        \n",
    "        if initstates is None: \n",
    "            initstates = [tf.zeros([y.shape[0], self.cell.output_size]), tf.zeros([y.shape[0], self.cell.output_size])]\n",
    "    \n",
    "        i = tf.constant(0, dtype=tf.int32)\n",
    "        curr_state = initstates\n",
    "        curr_pos = x_init\n",
    "        \n",
    "        def body(i, pos, states):  \n",
    "            gradient = grad_fn(pos, y, *grad_args)\n",
    "#             cell_state_concat = tf.concat([y, gradient], axis=-1)\n",
    "            cell_state_concat = tf.concat([pos, gradient], axis=-1)\n",
    "            delta_pos, new_state = self.cell(cell_state_concat, states)\n",
    "            delta_pos = self.output_layer(delta_pos)\n",
    "            new_pos = pos + delta_pos\n",
    "            return i +1 , new_pos, new_state\n",
    "        \n",
    "        while tf.less(i, tf.constant(self.niter)):\n",
    "            outputs_ta = outputs_ta.write(i, curr_pos)\n",
    "            states_ta = states_ta.write(i, curr_state)\n",
    "            i, curr_pos, curr_state =  body(i, curr_pos, curr_state)\n",
    "        outputs_ta = outputs_ta.write(i, curr_pos)\n",
    "        states_ta = states_ta.write(i, curr_state)\n",
    "        return outputs_ta.stack(), states_ta.stack()\n"
   ]
  },
  {
   "cell_type": "code",
   "execution_count": 322,
   "metadata": {},
   "outputs": [],
   "source": [
    "del cell, testrim"
   ]
  },
  {
   "cell_type": "code",
   "execution_count": 345,
   "metadata": {},
   "outputs": [],
   "source": [
    "cellsize = 8\n",
    "cell = LSTMCell(cellsize)\n",
    "cell.build(input_shape=[None, 4])\n",
    "# testrim = myRIM(cell,  niter=10)\n",
    "\n",
    "output_layer = Dense(2, trainable=False)\n",
    "# output_layer = Dense(2, trainable=False, use_bias=False, kernel_initializer=tf.ones)\n",
    "output_layer.build(input_shape=(None, cellsize))\n",
    "testrim = myRIM(cell, output_layer, niter=time_max_rim)\n",
    "\n",
    "\n",
    "idx = np.random.randint(0, X_train.shape[0], 10)\n",
    "xinit, xx, yy, A = X0_train[idx].astype(float32), X_train[idx].astype(float32), Y_train[idx].astype(float32), A_train[idx]\n",
    "out, states = testrim(x_init=tf.constant(xx), y=tf.constant(yy), grad_fn=tf_loss_grad, grad_args=[tf.constant(A)])\n",
    "\n"
   ]
  },
  {
   "cell_type": "code",
   "execution_count": 346,
   "metadata": {},
   "outputs": [],
   "source": [
    "# Create an optimizer for Adam.                                                                                                                           \n",
    "opt = tf.keras.optimizers.Adam(learning_rate=0.01)\n",
    "\n",
    "\n",
    "# @tf.function\n",
    "def rim_train(x_true, x_init, y, A):\n",
    "    with tf.GradientTape() as tape:\n",
    "        x_pred, states = testrim(x_init, y, tf_loss_grad, [A])\n",
    "        loss = tf.reduce_mean(tf.square((x_true- x_pred)))\n",
    "    gradients = tape.gradient(loss, testrim.trainable_variables)\n",
    "    opt.apply_gradients(zip(gradients, testrim.trainable_variables))\n",
    "    return loss\n",
    "    \n",
    "    "
   ]
  },
  {
   "cell_type": "code",
   "execution_count": 347,
   "metadata": {},
   "outputs": [],
   "source": [
    "# idx = np.random.randint(0, X_train.shape[0], 100)\n",
    "# xinit, xx, yy = X0_train[idx].astype(float32), X_train[idx].astype(float32), Y_train[idx].astype(float32)\n",
    "\n",
    "# with tf.GradientTape() as tape:\n",
    "#     tape.watch(testrim.trainable_variables)\n",
    "#     out, states = testrim(tf.constant(xinit),  tf.constant(yy), grad, [tf.constant(A)])\n",
    "#     testloss = tf.reduce_sum((out - tf.constant(xx)**2))\n",
    "# testgrads  = tape.gradient(testloss, testrim.trainable_variables)\n",
    "    \n"
   ]
  },
  {
   "cell_type": "code",
   "execution_count": 348,
   "metadata": {},
   "outputs": [],
   "source": [
    "losses = []\n",
    "for i in range(200):\n",
    "    idx = np.random.randint(0, X_train.shape[0], 16)\n",
    "    xinit, xx, yy, A = X0_train[idx].astype(float32), X_train[idx].astype(float32), Y_train[idx].astype(float32), A_train[idx]\n",
    "    losses.append(rim_train(tf.constant(xx), tf.constant(xinit), tf.constant(yy), tf.constant(A)).numpy())\n",
    "#     testrim(tf.constant(xinit), tf.constant(yy), grad, [tf.constant(A)])\n",
    "#     print(testrim.cell.kernel)    "
   ]
  },
  {
   "cell_type": "code",
   "execution_count": 349,
   "metadata": {},
   "outputs": [
    {
     "data": {
      "text/plain": [
       "[]"
      ]
     },
     "execution_count": 349,
     "metadata": {},
     "output_type": "execute_result"
    },
    {
     "data": {
      "image/png": "[encoded data removed]",
      "text/plain": [
       "<Figure size 1440x504 with 1 Axes>"
      ]
     },
     "metadata": {
      "needs_background": "light"
     },
     "output_type": "display_data"
    }
   ],
   "source": [
    "plt.plot(losses)\n",
    "plt.loglog()"
   ]
  },
  {
   "cell_type": "code",
   "execution_count": 350,
   "metadata": {},
   "outputs": [],
   "source": [
    "idx = np.random.randint(0, X_train.shape[0], 32)\n",
    "xinit, xx, yy, A = X0_train[idx].astype(float32), X_train[idx].astype(float32), Y_train[idx].astype(float32), A_train[idx]\n",
    "out = testrim(tf.constant(xinit), tf.constant(yy), tf_loss_grad, [tf.constant(A)])\n",
    "pred = out[1].numpy()\n",
    "cstate = out[1][:, 0]"
   ]
  },
  {
   "cell_type": "markdown",
   "metadata": {},
   "source": [
    "### Test"
   ]
  },
  {
   "cell_type": "code",
   "execution_count": 351,
   "metadata": {},
   "outputs": [],
   "source": [
    "idx = np.random.randint(0, X_train.shape[0], 32)\n",
    "xinit, xx, yy, A = X0_test.astype(float32), X_test.astype(float32), Y_test.astype(float32), A_test\n",
    "out = testrim(tf.constant(xinit), tf.constant(yy), tf_loss_grad, [tf.constant(A)])\n",
    "pred = out[0].numpy()\n",
    "cstate = out[1][:, 0]\n",
    "\n",
    "# list_xt_rim, losses = [], []\n",
    "# for (x0, y, x, A) in zip(X0_test, Y_test, X_test, A_test):\n",
    "#     list_xt, loss = rim.forward_sequence(x0, y, x, A, \"test\")\n",
    "#     list_xt_rim.append(list_xt)\n",
    "#     losses.append(loss.data.numpy()[0])\n",
    "# list_xt_rim = np.array(list_xt_rim)\n",
    "# losses = np.array(losses)\n",
    "\n"
   ]
  },
  {
   "cell_type": "code",
   "execution_count": 352,
   "metadata": {},
   "outputs": [],
   "source": [
    "list_xt_rim = np.array([pred[:, i, :] for i in range(pred.shape[1])])\n",
    "testlossrim = ((X_test - list_xt_rim[:, -1, :])**2).sum(axis=-1)**0.5\n",
    "testlossgd = ((X_test - list_xt_gd[:, -1, :])**2).sum(axis=-1)**0.5"
   ]
  },
  {
   "cell_type": "code",
   "execution_count": 1,
   "metadata": {},
   "outputs": [
    {
     "ename": "NameError",
     "evalue": "name 'np' is not defined",
     "output_type": "error",
     "traceback": [
      "\u001b[0;31m---------------------------------------------------------------------------\u001b[0m",
      "\u001b[0;31mNameError\u001b[0m                                 Traceback (most recent call last)",
      "\u001b[0;32m<ipython-input-1-68e8eb5dbf90>\u001b[0m in \u001b[0;36m<module>\u001b[0;34m\u001b[0m\n\u001b[0;32m----> 1\u001b[0;31m \u001b[0mi_example\u001b[0m \u001b[0;34m=\u001b[0m \u001b[0mnp\u001b[0m\u001b[0;34m.\u001b[0m\u001b[0mrandom\u001b[0m\u001b[0;34m.\u001b[0m\u001b[0mrandint\u001b[0m\u001b[0;34m(\u001b[0m\u001b[0mpred\u001b[0m\u001b[0;34m.\u001b[0m\u001b[0mshape\u001b[0m\u001b[0;34m[\u001b[0m\u001b[0;36m1\u001b[0m\u001b[0;34m]\u001b[0m\u001b[0;34m)\u001b[0m\u001b[0;34m\u001b[0m\u001b[0;34m\u001b[0m\u001b[0m\n\u001b[0m\u001b[1;32m      2\u001b[0m \u001b[0mprint\u001b[0m\u001b[0;34m(\u001b[0m\u001b[0mi_example\u001b[0m\u001b[0;34m)\u001b[0m\u001b[0;34m\u001b[0m\u001b[0;34m\u001b[0m\u001b[0m\n\u001b[1;32m      3\u001b[0m \u001b[0;34m\u001b[0m\u001b[0m\n\u001b[1;32m      4\u001b[0m \u001b[0mprint\u001b[0m\u001b[0;34m(\u001b[0m\u001b[0;34m\"RIM Loss: {0:5f}\"\u001b[0m\u001b[0;34m.\u001b[0m\u001b[0mformat\u001b[0m\u001b[0;34m(\u001b[0m\u001b[0mfloat\u001b[0m\u001b[0;34m(\u001b[0m\u001b[0mtestlossrim\u001b[0m\u001b[0;34m[\u001b[0m\u001b[0mi_example\u001b[0m\u001b[0;34m]\u001b[0m\u001b[0;34m)\u001b[0m\u001b[0;34m)\u001b[0m\u001b[0;34m)\u001b[0m\u001b[0;34m\u001b[0m\u001b[0;34m\u001b[0m\u001b[0m\n\u001b[1;32m      5\u001b[0m \u001b[0mprint\u001b[0m\u001b[0;34m(\u001b[0m\u001b[0;34m\"GD Loss: {0:5f}\"\u001b[0m\u001b[0;34m.\u001b[0m\u001b[0mformat\u001b[0m\u001b[0;34m(\u001b[0m\u001b[0mfloat\u001b[0m\u001b[0;34m(\u001b[0m\u001b[0mtestlossgd\u001b[0m\u001b[0;34m[\u001b[0m\u001b[0mi_example\u001b[0m\u001b[0;34m]\u001b[0m\u001b[0;34m)\u001b[0m\u001b[0;34m)\u001b[0m\u001b[0;34m)\u001b[0m\u001b[0;34m\u001b[0m\u001b[0;34m\u001b[0m\u001b[0m\n",
      "\u001b[0;31mNameError\u001b[0m: name 'np' is not defined"
     ]
    }
   ],
   "source": [
    "i_example = np.random.randint(pred.shape[1])\n",
    "print(i_example)\n",
    "\n",
    "print(\"RIM Loss: {0:5f}\".format(float(testlossrim[i_example])))\n",
    "print(\"GD Loss: {0:5f}\".format(float(testlossgd[i_example])))\n",
    "\n",
    "plt.rcParams['figure.figsize'] = (20,7)\n",
    "plt.axis('equal')\n",
    "\n",
    "# Plot the loss\n",
    "plt.contourf(X_grid[i_example], Y_grid[i_example], Z_grid[i_example], 20)\n",
    "plt.colorbar();\n",
    "plt.scatter(X_test[i_example][0], X_test[i_example][1], c=colormap[2], zorder=10, label=\"True x\")\n",
    "plt.scatter(X_min_test[i_example][0], X_min_test[i_example][1], c=colormap[4], zorder=10, label=\"Minimum\")\n",
    "\n",
    "# Plot the RIM results\n",
    "plt.plot(list_xt_rim[i_example,:,0], list_xt_rim[i_example,:,1], color=colormap[9])\n",
    "plt.scatter(list_xt_rim[i_example,:,0], list_xt_rim[i_example,:,1], color=colormap[9], label=\"RIM\")\n",
    "plt.scatter(list_xt_rim[i_example,-1,0], list_xt_rim[i_example,-1,1], color=colormap[7], label=\"RIM\", marker='s', s=100)\n",
    "\n",
    "# Plot the GD results\n",
    "plt.plot(list_xt_gd[i_example,:,0], list_xt_gd[i_example,:,1], color=colormap[1])\n",
    "plt.scatter(list_xt_gd[i_example,:,0], list_xt_gd[i_example,:,1], c=colormap[1], label=\"GD\")\n",
    "\n",
    "plt.xlabel(\"$x_0$\", size=15)\n",
    "plt.ylabel(\"$x_1$\", size=15)\n",
    "plt.title(\"Comparison of RIM and gradient descent\", size=15)\n",
    "plt.legend()\n",
    "# plt.savefig(\"screenshots/toy-model-1-sample.png\")"
   ]
  },
  {
   "cell_type": "code",
   "execution_count": 354,
   "metadata": {},
   "outputs": [
    {
     "data": {
      "text/plain": [
       "(array([148., 147.,  84.,  43.,  36.,  24.,   8.,   4.,   3.,   0.]),\n",
       " array([ 0.,  1.,  2.,  3.,  4.,  5.,  6.,  7.,  8.,  9., 10.],\n",
       "       dtype=float32),\n",
       " <a list of 10 Patch objects>)"
      ]
     },
     "execution_count": 354,
     "metadata": {},
     "output_type": "execute_result"
    },
    {
     "data": {
      "image/png": "[encoded data removed]",
      "text/plain": [
       "<Figure size 1440x504 with 1 Axes>"
      ]
     },
     "metadata": {
      "needs_background": "light"
     },
     "output_type": "display_data"
    }
   ],
   "source": [
    "plt.hist(testlossrim, range=(0, 10))\n",
    "plt.hist(testlossgd, alpha=0.5, range=(0, 10))\n"
   ]
  },
  {
   "cell_type": "code",
   "execution_count": 355,
   "metadata": {},
   "outputs": [
    {
     "name": "stdout",
     "output_type": "stream",
     "text": [
      "Average distance to min x with RIM:  0.783723\n",
      "Average distance to min x with GD:  1.6700162\n",
      "STD distance to min x with RIM:  0.77863693\n",
      "STD distance to min x with GD:  1.6523387\n"
     ]
    }
   ],
   "source": [
    "\n",
    "\n",
    "dist_rim = [np.linalg.norm(list_xt_rim[i][-1] - X_min_test[i]) for i in range(len(X_test))]\n",
    "dist_gd = [np.linalg.norm(list_xt_gd[i][-1] - X_min_test[i]) for i in range(len(X_test))]\n",
    "\n",
    "mean_rim = np.mean(dist_rim)\n",
    "mean_gd = np.mean(dist_gd)\n",
    "\n",
    "std_rim = np.std(dist_rim)\n",
    "std_gd = np.std(dist_gd)\n",
    "\n",
    "print(\"Average distance to min x with RIM: \", mean_rim)\n",
    "print(\"Average distance to min x with GD: \", mean_gd)\n",
    "\n",
    "print(\"STD distance to min x with RIM: \", std_rim)\n",
    "print(\"STD distance to min x with GD: \", std_gd)\n"
   ]
  },
  {
   "cell_type": "code",
   "execution_count": 356,
   "metadata": {},
   "outputs": [
    {
     "name": "stdout",
     "output_type": "stream",
     "text": [
      "Average distance to true x with RIM:  1.1937134\n",
      "Average distance to true x with GD:  2.1779253\n",
      "STD distance to true x with RIM:  0.9846606\n",
      "STD distance to true x with GD:  1.8039178\n"
     ]
    }
   ],
   "source": [
    "\n",
    "binwidth = 0.5\n",
    "\n",
    "dist_rim = [np.linalg.norm(list_xt_rim[i][-1] - X_test[i]) for i in range(len(X_test))]\n",
    "dist_gd = [np.linalg.norm(list_xt_gd[i][-1] - X_test[i]) for i in range(len(X_test))]\n",
    "\n",
    "mean_rim = np.mean(dist_rim)\n",
    "mean_gd = np.mean(dist_gd)\n",
    "\n",
    "std_rim = np.std(dist_rim)\n",
    "std_gd = np.std(dist_gd)\n",
    "\n",
    "print(\"Average distance to true x with RIM: \", mean_rim)\n",
    "print(\"Average distance to true x with GD: \", mean_gd)\n",
    "\n",
    "print(\"STD distance to true x with RIM: \", std_rim)\n",
    "print(\"STD distance to true x with GD: \", std_gd)"
   ]
  },
  {
   "cell_type": "code",
   "execution_count": null,
   "metadata": {},
   "outputs": [],
   "source": []
  }
 ],
 "metadata": {
  "kernelspec": {
   "display_name": "tensorflow-v2.2.0-gpu",
   "language": "python",
   "name": "tensorflow_gpu_2.2.0-py37"
  },
  "language_info": {
   "codemirror_mode": {
    "name": "ipython",
    "version": 3
   },
   "file_extension": ".py",
   "mimetype": "text/x-python",
   "name": "python",
   "nbconvert_exporter": "python",
   "pygments_lexer": "ipython3",
   "version": "3.7.4"
  }
 },
 "nbformat": 4,
 "nbformat_minor": 4
}
