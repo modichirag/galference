{
 "cells": [
  {
   "cell_type": "code",
   "execution_count": 1,
   "metadata": {},
   "outputs": [
    {
     "name": "stdout",
     "output_type": "stream",
     "text": [
      "Populating the interactive namespace from numpy and matplotlib\n"
     ]
    }
   ],
   "source": [
    "%pylab inline\n",
    "\n",
    "%load_ext autoreload\n",
    "%autoreload 2"
   ]
  },
  {
   "cell_type": "code",
   "execution_count": 2,
   "metadata": {},
   "outputs": [],
   "source": [
    "import tensorflow as tf\n",
    "import tensorflow_probability as tfp\n",
    "import mesh_tensorflow as mtf\n",
    "\n",
    "import flowpm\n",
    "import flowpm.mesh_ops as mpm\n",
    "import flowpm.mtfpm as mtfpm\n",
    "import flowpm.mesh_utils as mesh_utils\n",
    "from astropy.cosmology import Planck15\n",
    "from flowpm.tfpm import PerturbationGrowth\n",
    "from flowpm import linear_field, lpt_init, nbody, cic_paint\n",
    "from flowpm.utils import r2c3d, c2r3d\n",
    "\n",
    "sys.path.append('../utils/')\n",
    "import tools\n",
    "import diagnostics as dg\n",
    "\n",
    "import contextlib\n",
    "import functools\n",
    "import math, time\n",
    "from scipy.interpolate import InterpolatedUnivariateSpline as iuspline\n",
    "import scipy.optimize as sopt\n"
   ]
  },
  {
   "cell_type": "code",
   "execution_count": 3,
   "metadata": {},
   "outputs": [],
   "source": [
    "from recurrent_inference import rim, ConvRIM3D\n",
    "from convolutional_recurrent import ConvLSTM3DCell\n",
    "from tensorflow.python.keras.layers import ConvLSTM2D\n",
    "from tensorflow.python.keras.layers.convolutional_recurrent import ConvLSTM2DCell\n",
    "\n"
   ]
  },
  {
   "cell_type": "code",
   "execution_count": 4,
   "metadata": {},
   "outputs": [
    {
     "name": "stdout",
     "output_type": "stream",
     "text": [
      "3\n"
     ]
    },
    {
     "data": {
      "text/plain": [
       "(TensorShape([11, 5, 8, 8, 7]),\n",
       " TensorShape([11, 8, 8, 7]),\n",
       " TensorShape([11, 8, 8, 7]))"
      ]
     },
     "execution_count": 4,
     "metadata": {},
     "output_type": "execute_result"
    }
   ],
   "source": [
    "bb = 11\n",
    "nc = 8 \n",
    "cc = 2\n",
    "tt = 5\n",
    "filters = 7\n",
    "\n",
    "\n",
    "inp = np.random.normal(size=bb*tt*nc**2*cc).reshape(bb, tt, nc, nc, cc).astype(float32)\n",
    "states = np.zeros(shape = (2, bb, nc, nc, filters)).astype(float32)\n",
    "\n",
    "layer2d = ConvLSTM2D(filters=filters, kernel_size = 3, padding='SAME', return_state=True, return_sequences=True)\n",
    "out = layer2d(inp)\n",
    "print(len(out))\n",
    "out[0].shape, out[1].shape, out[2].shape"
   ]
  },
  {
   "cell_type": "code",
   "execution_count": 5,
   "metadata": {},
   "outputs": [
    {
     "name": "stdout",
     "output_type": "stream",
     "text": [
      "(3, 3, 2, 28)\n",
      "(3, 3, 7, 28)\n",
      "(28,)\n"
     ]
    }
   ],
   "source": [
    "wts = layer2d.cell.get_weights()\n",
    "for i in wts:\n",
    "    print(i.shape)"
   ]
  },
  {
   "cell_type": "code",
   "execution_count": 6,
   "metadata": {},
   "outputs": [
    {
     "data": {
      "text/plain": [
       "(11, 8, 8, 2)"
      ]
     },
     "execution_count": 6,
     "metadata": {},
     "output_type": "execute_result"
    }
   ],
   "source": [
    "inp[:, 0].shape"
   ]
  },
  {
   "cell_type": "code",
   "execution_count": 135,
   "metadata": {},
   "outputs": [
    {
     "data": {
      "text/plain": [
       "(TensorShape([11, 8, 8, 7]),\n",
       " 2,\n",
       " TensorShape([11, 8, 8, 7]),\n",
       " TensorShape([11, 8, 8, 7]))"
      ]
     },
     "execution_count": 135,
     "metadata": {},
     "output_type": "execute_result"
    }
   ],
   "source": [
    "cell2d = ConvLSTM2DCell(filters=filters, kernel_size = 3, padding='SAME')\n",
    "out = cell2d(inp[:, 0],  states)\n",
    "# out = cell2d(inp,  [states]*tt)\n",
    "out[0].shape, len(out[1]), out[1][0].shape, out[1][1].shape"
   ]
  },
  {
   "cell_type": "code",
   "execution_count": 146,
   "metadata": {},
   "outputs": [],
   "source": [
    "inp3d = np.random.normal(size=bb*tt*nc**3*cc).reshape(bb, tt, nc, nc, nc, cc).astype(float32)\n",
    "states3d = np.zeros(shape = (2, bb, nc, nc, nc, filters)).astype(float32)\n",
    "cell3d = ConvLSTM3DCell(filters=filters, kernel_size = 3, padding='SAME')\n",
    "cell3d(inp3d[:, 0], states3d);"
   ]
  },
  {
   "cell_type": "markdown",
   "metadata": {},
   "source": [
    "# rim"
   ]
  },
  {
   "cell_type": "code",
   "execution_count": 79,
   "metadata": {},
   "outputs": [],
   "source": [
    "bb = 11\n",
    "nc = 8 \n",
    "cc = 1\n",
    "tt = 5\n",
    "filters = 5\n",
    "\n",
    "inp3d = np.random.normal(size=bb*tt*nc**3*cc).reshape(bb, tt, nc, nc, nc, cc).astype(float32)\n",
    "states3d = np.zeros(shape = (2, bb, nc, nc, nc, filters)).astype(float32)\n",
    "cell3d = ConvLSTM3DCell(filters=filters, kernel_size = 3, padding='SAME')\n",
    "cell3d(inp3d[:, 0], states3d);\n"
   ]
  },
  {
   "cell_type": "code",
   "execution_count": 80,
   "metadata": {},
   "outputs": [],
   "source": [
    "\n",
    "inprim = np.random.normal(size=bb*1*nc**3*cc).reshape(bb, nc, nc, nc, cc).astype(float32)\n",
    "statesrim = np.zeros(shape = (2, bb,  nc, nc, nc, filters)).astype(float32)\n",
    "output_layer = tf.keras.layers.Conv3D(filters=1, kernel_size=3, padding='SAME')\n",
    "\n",
    "\n",
    "# rim(cell3d.call, tf.constant(inprim), tf.constant(statesrim), 1)\n",
    "cvrim = ConvRIM3D(cell3d, output_layer, None, 1)"
   ]
  },
  {
   "cell_type": "code",
   "execution_count": 9,
   "metadata": {},
   "outputs": [],
   "source": [
    "# cvrim.get_initial_state(inprim);"
   ]
  },
  {
   "cell_type": "code",
   "execution_count": 10,
   "metadata": {},
   "outputs": [],
   "source": [
    "\n",
    "# def model(x):\n",
    "#     return tf.reduce_sum(tf.square(x-tf.constant(2, dtype=tf.float32)))\n",
    "\n",
    "# @tf.function\n",
    "# def val_and_grad(x):\n",
    "#     with tf.GradientTape() as tape:\n",
    "#         tape.watch(x)\n",
    "#         loss = model(x)\n",
    "#     grad = tape.gradient(loss, x)\n",
    "#     return loss, grad\n",
    "\n",
    "# def func(x):\n",
    "#     return [vv.numpy().astype(np.float64)  for vv in val_and_grad(tf.constant(x, dtype=tf.float32))]\n",
    "\n",
    "# resdd= sopt.minimize(fun=func, x0=np.ones(5),\n",
    "#                                       jac=True, method='L-BFGS-B')\n",
    "\n",
    "# print(\"info:\\n\",resdd)"
   ]
  },
  {
   "cell_type": "markdown",
   "metadata": {},
   "source": [
    "# PM"
   ]
  },
  {
   "cell_type": "code",
   "execution_count": 11,
   "metadata": {},
   "outputs": [
    {
     "name": "stderr",
     "output_type": "stream",
     "text": [
      "<ipython-input-11-0d1dad7ca900>:11: DeprecationWarning: Calling np.sum(generator) is deprecated, and in the future will give a different result. Use np.sum(np.fromiter(generator)) or the python sum builtin instead.\n",
      "  kmesh = (sum(k**2 for k in kvec)**0.5).astype(np.float32)\n"
     ]
    }
   ],
   "source": [
    "bs, nc = 100, 16\n",
    "nsteps = 3\n",
    "a0, a, nsteps = 0.1, 1.0,  nsteps\n",
    "stages = np.linspace(a0, a, nsteps, endpoint=True)\n",
    "\n",
    "klin = np.loadtxt('../data/Planck15_a1p00.txt').T[0]\n",
    "plin = np.loadtxt('../data//Planck15_a1p00.txt').T[1]\n",
    "ipklin = iuspline(klin, plin)\n",
    "# Compute necessary Fourier kernels                                                                                                                           \n",
    "kvec = tools.fftk((nc, nc, nc), boxsize=nc, symmetric=False)\n",
    "kmesh = (sum(k**2 for k in kvec)**0.5).astype(np.float32)\n",
    "priorwt = ipklin(kmesh)\n"
   ]
  },
  {
   "cell_type": "code",
   "execution_count": 12,
   "metadata": {},
   "outputs": [],
   "source": [
    "dpath = '../data/rim-data/L%04d_N%03d_T%02d/'%(bs, nc, nsteps)\n",
    "\n",
    "alldata = np.array([np.load(dpath + '%04d.npy'%i) for i in range(100)]).astype(float32)\n"
   ]
  },
  {
   "cell_type": "markdown",
   "metadata": {},
   "source": [
    "#Simple recon with ADAM"
   ]
  },
  {
   "cell_type": "code",
   "execution_count": 13,
   "metadata": {},
   "outputs": [
    {
     "data": {
      "image/png": "[encoded data removed]",
      "text/plain": [
       "<Figure size 504x216 with 2 Axes>"
      ]
     },
     "metadata": {
      "needs_background": "light"
     },
     "output_type": "display_data"
    }
   ],
   "source": [
    "ic, fin = alldata[0]\n",
    "fig, ax = plt.subplots(1, 2, figsize=(7, 3))\n",
    "ax[0].imshow(ic.sum(axis=0))\n",
    "ax[1].imshow(fin.sum(axis=0))\n",
    "ic, fin = np.expand_dims(ic, 0), np.expand_dims(fin, 0)\n"
   ]
  },
  {
   "cell_type": "code",
   "execution_count": 14,
   "metadata": {},
   "outputs": [],
   "source": [
    "tf.keras.backend.clear_session()\n"
   ]
  },
  {
   "cell_type": "code",
   "execution_count": 15,
   "metadata": {},
   "outputs": [],
   "source": [
    "@tf.function\n",
    "def pm(linear):\n",
    "    state = lpt_init(linear, a0=0.1, order=1)\n",
    "    final_state = nbody(state,  stages, nc)\n",
    "    tfinal_field = cic_paint(tf.zeros_like(linear), final_state[0])\n",
    "    return tfinal_field\n",
    "\n",
    "\n",
    "@tf.function\n",
    "def recon_prototype(linear, data, Rsm, anneal=True):\n",
    "    \"\"\"                                                                                                                                                   \n",
    "    \"\"\"\n",
    "    print(linear)\n",
    "#     linear = tf.reshape(linear, data.shape)\n",
    "    final_field = pm(linear)\n",
    "\n",
    "    residual = final_field - data #.astype(np.float32)\n",
    "    base = residual\n",
    "\n",
    "    if anneal :\n",
    "        print(\"\\nAdd annealing section to graph\\n\")\n",
    "        Rsmsq = tf.multiply(Rsm*bs/nc, Rsm*bs/nc)\n",
    "        smwts = tf.exp(tf.multiply(-kmesh**2, Rsmsq))\n",
    "        basek = r2c3d(base, norm=nc**3)\n",
    "        basek = tf.multiply(basek, tf.cast(smwts, tf.complex64))\n",
    "        base = c2r3d(basek, norm=nc**3)\n",
    "\n",
    "    chisq = tf.multiply(base, base)\n",
    "    chisq = tf.reduce_sum(chisq)\n",
    "    chisq = tf.multiply(chisq, 1/nc**3, name='chisq')\n",
    "\n",
    "    #Prior                                                                                                                                                \n",
    "    lineark = r2c3d(linear, norm=nc**3)\n",
    "    priormesh = tf.square(tf.cast(tf.abs(lineark), tf.float32))\n",
    "    prior = tf.reduce_sum(tf.multiply(priormesh, 1/priorwt))\n",
    "    prior = tf.multiply(prior, 1/nc**3, name='prior')\n",
    "    #                                                                                                                                                     \n",
    "    loss = chisq + prior\n",
    "\n",
    "    return loss\n",
    "\n",
    "\n",
    "@tf.function\n",
    "def val_and_grad(x, y, Rsm):\n",
    "    print(\"val and grad : \", x.shape)\n",
    "    with tf.GradientTape() as tape:\n",
    "        tape.watch(x)\n",
    "        loss = recon_prototype(x, y, Rsm)\n",
    "    grad = tape.gradient(loss, x)\n",
    "    return loss, grad\n",
    "\n",
    "@tf.function\n",
    "def grad(x, y, Rsm):\n",
    "    with tf.GradientTape() as tape:\n",
    "        tape.watch(x)\n",
    "        loss = recon_prototype(x, y, Rsm)\n",
    "    grad = tape.gradient(loss, [x])\n",
    "    return grad\n",
    "\n",
    "\n",
    "# Create an optimizer for Adam.                                                                                                                           \n",
    "opt = tf.keras.optimizers.Adam(learning_rate=0.1)\n",
    "\n"
   ]
  },
  {
   "cell_type": "code",
   "execution_count": 16,
   "metadata": {},
   "outputs": [],
   "source": [
    "# recon_prototype(linear, tf.constant(fin), tf.constant(0., dtype=tf.float32))\n"
   ]
  },
  {
   "cell_type": "code",
   "execution_count": 17,
   "metadata": {},
   "outputs": [
    {
     "name": "stdout",
     "output_type": "stream",
     "text": [
      "<tf.Variable 'linmesh:0' shape=(1, 16, 16, 16) dtype=float32>\n",
      "\n",
      "Add annealing section to graph\n",
      "\n"
     ]
    }
   ],
   "source": [
    "RRs = [0]\n",
    "optimizer = 'adam'\n",
    "niter = 100\n",
    "\n",
    "\n",
    "#Loop it Reconstruction                                                                                                                                   \n",
    "##Reconstruction                                                                                                                                          \n",
    "x0 = np.random.normal(0, 1, nc**3).reshape(fin.shape).astype(np.float32)\n",
    "linear = tf.Variable(name='linmesh', shape=(1, nc, nc, nc), dtype=tf.float32,\n",
    "                         initial_value=x0, trainable=True)\n",
    "\n",
    "for iR, RR in enumerate(RRs):\n",
    "\n",
    "    for i in range(niter):\n",
    "        grads = grad(linear, tf.constant(fin, dtype=tf.float32), tf.constant(RR, dtype=tf.float32))\n",
    "#         recon_prototype(linear, tf.constant(fin), tf.constant(0., dtype=tf.float32))\n",
    "        opt.apply_gradients(zip(grads, [linear]))\n",
    "    minic = linear.numpy().reshape(fin.shape)\n",
    "    \n",
    "    x0 = minic\n",
    "    \n",
    "#     #                                                                                                                                                     \n",
    "#     print('\\nminimized\\n')\n",
    "#     minfin = pm(tf.constant(minic, dtype=tf.float32)).numpy()\n",
    "#     dg.saveimfig(\"-R%d\"%RR, [minic, minfin], [ic, fin], fpath+'')\n",
    "#     dg.save2ptfig(\"-R%d\"%RR, [minic, minfin], [ic, fin], fpath+'', bs)\n",
    "#     ###                                                                                                                                                   \n",
    "#     x0 = minic\n",
    "# exit(0)\n",
    "\n",
    "\n"
   ]
  },
  {
   "cell_type": "code",
   "execution_count": 18,
   "metadata": {},
   "outputs": [
    {
     "data": {
      "text/plain": [
       "<matplotlib.colorbar.Colorbar at 0x7f45385e0190>"
      ]
     },
     "execution_count": 18,
     "metadata": {},
     "output_type": "execute_result"
    },
    {
     "data": {
      "image/png": "[encoded data removed]",
      "text/plain": [
       "<Figure size 504x216 with 4 Axes>"
      ]
     },
     "metadata": {
      "needs_background": "light"
     },
     "output_type": "display_data"
    }
   ],
   "source": [
    "fig, ax = plt.subplots(1, 2, figsize=(7, 3))\n",
    "im = ax[0].imshow(ic[0].sum(axis=0))\n",
    "plt.colorbar(im, ax=ax[0])\n",
    "im = ax[1].imshow(minic[0].sum(axis=0))\n",
    "plt.colorbar(im, ax=ax[1])"
   ]
  },
  {
   "cell_type": "markdown",
   "metadata": {},
   "source": [
    "#  RIM\n"
   ]
  },
  {
   "cell_type": "code",
   "execution_count": 5,
   "metadata": {},
   "outputs": [],
   "source": [
    "# from recurrent_inference import ConvRIM3D\n",
    "# from convolutional_recurrent import ConvLSTM3DCell\n",
    "\n",
    "\n",
    "# @tf.function\n",
    "# def likelihood_fn(inputs, predictions):\n",
    "#   \"\"\" Evaluates the data likelihood function through Fast PM\n",
    "#   \"\"\"\n",
    "#   final_field = pm(predictions[..., 0])\n",
    "#   likelihood = tf.reduce_mean((final_field - inputs[...,0])**2/sigma**2, \n",
    "#                               axis=[1, 2, 3])\n",
    "#   return likelihood\n",
    "\n",
    "# @tf.function\n",
    "# def gradient_fn(inputs, predictions):\n",
    "#     \"\"\" Evaluates the data likelihood function through Fast PM\n",
    "#     \"\"\"\n",
    "#     with tf.GradientTape() as tape:\n",
    "#         tape.watch(x)\n",
    "#         loss = likelihood_fn(x, y, Rsm)\n",
    "#     grad = tape.gradient(loss, [x])\n",
    "#     return grad\n",
    "  "
   ]
  },
  {
   "cell_type": "code",
   "execution_count": 7,
   "metadata": {},
   "outputs": [],
   "source": [
    "from tensorflow.python.keras.layers import LSTMCell, LSTM\n"
   ]
  },
  {
   "cell_type": "code",
   "execution_count": 8,
   "metadata": {},
   "outputs": [],
   "source": [
    "nb_samples = 100\n",
    "batch_size = 16\n",
    "time_max_rim = 30\n",
    "time_max_gd = 60\n",
    "nb_epochs = 2\n",
    "\n",
    "size_train = 1000\n",
    "size_test = 500"
   ]
  },
  {
   "cell_type": "code",
   "execution_count": 9,
   "metadata": {},
   "outputs": [],
   "source": [
    "def simulate(x, A, sigma):\n",
    "    return np.dot(A,x) + np.random.normal(0,sigma, (2,))\n",
    "\n",
    "def generate_A():\n",
    "    D = np.diag(np.random.choice([-1,1], (2,)) * np.random.uniform(0.25, 1, (2,)))\n",
    "    theta = np.random.uniform(0,2*np.pi)\n",
    "    P = np.array([[np.cos(theta), -np.sin(theta)], [np.sin(theta), np.cos(theta)]])\n",
    "    return np.linalg.inv(P).dot(D).dot(P)\n",
    "\n",
    "def loss(x, y, A):\n",
    "    return 0.5 * x.T.dot(A.T).dot(A).dot(x) -  y.T.dot(A).dot(x)\n",
    "\n",
    "def gradient(x, y, A):\n",
    "    return A.T.dot(A.dot(x) - y)"
   ]
  },
  {
   "cell_type": "code",
   "execution_count": 10,
   "metadata": {},
   "outputs": [],
   "source": [
    "A_train = np.array([generate_A() for i in range(size_train)]).astype(float32)\n",
    "sigma_train = np.array([np.abs(np.random.uniform(0, 1)) for i in range(size_train)]).astype(float32)\n",
    "\n",
    "X_train = np.array([np.random.uniform(-5, 5, (2,)) for i in range(size_train)]).astype(float32)\n",
    "Y_train = np.array([simulate(x, A, sigma) for (x, A, sigma) in zip(X_train, A_train, sigma_train)]).astype(float32)\n",
    "X_min_train = np.array([np.linalg.inv(A).dot(y) for (A,y) in zip(A_train,Y_train)]).astype(float32)\n",
    "X0_train = np.array([x_min + np.random.uniform(-10,10,(2,)) for x_min in X_min_train]).astype(float32)"
   ]
  },
  {
   "cell_type": "code",
   "execution_count": 11,
   "metadata": {},
   "outputs": [],
   "source": [
    "A_test = np.array([generate_A() for i in range(size_test)]).astype(float32)\n",
    "sigma_test = np.array([np.abs(np.random.uniform(0, 1)) for i in range(size_test)]).astype(float32)\n",
    "\n",
    "X_test = np.array([np.random.uniform(-5, 5, (2,)) for i in range(size_test)]).astype(float32)\n",
    "Y_test = np.array([simulate(x, A, sigma) for (x, A, sigma) in zip(X_test, A_test, sigma_test)]).astype(float32)\n",
    "X_min_test = np.array([np.linalg.inv(A).dot(y) for (A,y) in zip(A_test,Y_test)]).astype(float32)\n",
    "X0_test = np.array([x_min + np.random.uniform(-10,10,(2,)) for x_min in X_min_test]).astype(float32)"
   ]
  },
  {
   "cell_type": "markdown",
   "metadata": {},
   "source": [
    "# GD"
   ]
  },
  {
   "cell_type": "code",
   "execution_count": 152,
   "metadata": {},
   "outputs": [],
   "source": [
    "lr = 0.1\n",
    "\n",
    "list_xt_gd = []\n",
    "for (x0, y, A) in zip(X0_test, Y_test, A_test):\n",
    "    xt = x0.copy()\n",
    "    list_xt = [x0]\n",
    "    for t in range(1, time_max_gd):\n",
    "        xt = xt - lr * gradient(xt, y, A)\n",
    "        list_xt.append(xt)\n",
    "    list_xt_gd.append(list_xt)\n",
    "list_xt_gd = np.array(list_xt_gd)"
   ]
  },
  {
   "cell_type": "code",
   "execution_count": 34,
   "metadata": {},
   "outputs": [],
   "source": [
    "\n",
    "extent_x, extent_y = 14, 6\n",
    "xx_grid = np.array([np.linspace(x_min[0]-extent_x, x_min[0]+extent_x, 50) for x_min in X_min_test])\n",
    "yy_grid = np.array([np.linspace(x_min[1]-extent_y, x_min[1]+extent_y, 50) for x_min in X_min_test])\n",
    "XY_grid = np.array([np.meshgrid(xx, yy) for (xx,yy) in zip(xx_grid, yy_grid)])\n",
    "X_grid = XY_grid[:,0,:,:]\n",
    "Y_grid = XY_grid[:,1,:,:]\n",
    "grid = np.concatenate([X_grid[:,:,:,np.newaxis], Y_grid[:,:,:,np.newaxis]], axis=3)\n",
    "Z_grid = np.array([np.apply_along_axis(lambda x: loss(x, y, A), 2, g) for (y,A,g) in zip(Y_test, A_test, grid)])\n",
    "colormap = np.array(plt.rcParams['axes.prop_cycle'].by_key()['color'])\n"
   ]
  },
  {
   "cell_type": "code",
   "execution_count": 35,
   "metadata": {},
   "outputs": [
    {
     "data": {
      "text/plain": [
       "<matplotlib.collections.PathCollection at 0x7f453822d4c0>"
      ]
     },
     "execution_count": 35,
     "metadata": {},
     "output_type": "execute_result"
    },
    {
     "data": {
      "image/png": "[encoded data removed]",
      "text/plain": [
       "<Figure size 1440x504 with 2 Axes>"
      ]
     },
     "metadata": {
      "needs_background": "light"
     },
     "output_type": "display_data"
    }
   ],
   "source": [
    "i_example = 37\n",
    "\n",
    "plt.rcParams['figure.figsize'] = (20,7)\n",
    "plt.axis('equal')\n",
    "\n",
    "plt.contourf(X_grid[i_example], Y_grid[i_example], Z_grid[i_example], 20)\n",
    "plt.colorbar()\n",
    "plt.scatter(X_min_test[i_example][0], X_min_test[i_example][1], c=colormap[4])\n",
    "plt.scatter(X0_test[i_example][0], X0_test[i_example][1])\n",
    "\n",
    "plt.plot(list_xt_gd[i_example,:,0], list_xt_gd[i_example,:,1], color=colormap[1])\n",
    "plt.scatter(list_xt_gd[i_example,:,0], list_xt_gd[i_example,:,1], c=colormap[1])"
   ]
  },
  {
   "cell_type": "markdown",
   "metadata": {},
   "source": [
    "# Code RIM"
   ]
  },
  {
   "cell_type": "code",
   "execution_count": 151,
   "metadata": {},
   "outputs": [],
   "source": [
    "del rim"
   ]
  },
  {
   "cell_type": "code",
   "execution_count": 10,
   "metadata": {},
   "outputs": [],
   "source": [
    "from recurrent_inference import rim\n"
   ]
  },
  {
   "cell_type": "code",
   "execution_count": null,
   "metadata": {},
   "outputs": [],
   "source": []
  },
  {
   "cell_type": "code",
   "execution_count": 23,
   "metadata": {},
   "outputs": [],
   "source": [
    "output_size = 2\n",
    "cell = LSTMCell(output_size)\n",
    "cell.build([None, 4])"
   ]
  },
  {
   "cell_type": "code",
   "execution_count": 24,
   "metadata": {},
   "outputs": [],
   "source": [
    "bb = 10\n",
    "niter = 10\n",
    "\n",
    "xx, yy = X_train[:bb].astype(float32), Y_train[:bb].astype(float32)\n",
    "A = A_train[0]\n",
    "idx = np.random.randint(0, X_train.shape[0], 100)\n",
    "xx, yy = X_train[idx].astype(float32), Y_train[idx].astype(float32)\n",
    "A = A_train[0]\n",
    "\n",
    "# states = [np.zeros(shape=(1, 1, output_size)).astype(float32), \n",
    "#           np.zeros(shape=(1, 1, output_size)).astype(float32)]\n",
    "states = tf.constant(np.zeros(shape=(2, idx.size,  output_size)).astype(float32))\n",
    "states = [tf.Variable(states[0]), tf.Variable(states[1])]\n",
    "out = cell(tf.constant(tf.concat([xx, xx*2], axis=-1)), states)"
   ]
  },
  {
   "cell_type": "code",
   "execution_count": 273,
   "metadata": {},
   "outputs": [],
   "source": [
    "# idx = np.random.randint(0, X_train.shape[0], 100)\n",
    "# xx, yy, AA = X_train[idx], Y_train[idx], A_train[idx]\n",
    "\n",
    "\n",
    "# def test(x, A):\n",
    "#     y = [x[i].dot(A[i]) for i in range(x.shape[0])]\n",
    "#     return np.array(y)\n",
    "\n",
    "# def test2(x, A):\n",
    "#     y = [tf.matmul(x[i], A[i]) for i in range(x.shape[0])]\n",
    "#     return y\n",
    "\n",
    "\n",
    "# a = test2(tf.constant(xx), tf.constant(AA)).numpy()\n",
    "# b = test(xx, AA)\n",
    "# b.shape"
   ]
  },
  {
   "cell_type": "code",
   "execution_count": 274,
   "metadata": {},
   "outputs": [],
   "source": [
    "niter = 5"
   ]
  },
  {
   "cell_type": "code",
   "execution_count": 209,
   "metadata": {},
   "outputs": [
    {
     "data": {
      "text/plain": [
       "(2, 2)"
      ]
     },
     "execution_count": 209,
     "metadata": {},
     "output_type": "execute_result"
    }
   ],
   "source": [
    "A.shape"
   ]
  },
  {
   "cell_type": "code",
   "execution_count": 220,
   "metadata": {},
   "outputs": [
    {
     "data": {
      "text/plain": [
       "<tf.Tensor: shape=(100, 2), dtype=float32, numpy=\n",
       "array([[-4.28914316e-02,  5.80406809e+00],\n",
       "       [-9.47564030e+00, -3.66294360e+00],\n",
       "       [-1.96714714e-01,  1.44845176e+00],\n",
       "       [ 9.87903923e-02, -6.88998997e-01],\n",
       "       [ 1.53583300e+00,  3.19356173e-02],\n",
       "       [-1.45412169e+01,  3.01169729e+00],\n",
       "       [ 2.60905791e-02,  1.66876926e+01],\n",
       "       [ 5.12896442e+00,  5.11653280e+00],\n",
       "       [ 1.43319094e+00,  1.64518565e-01],\n",
       "       [ 1.02510653e+01,  9.63774979e-01],\n",
       "       [-5.20637369e+00,  3.00964499e+00],\n",
       "       [ 8.84546280e+00,  6.02511024e+00],\n",
       "       [-5.43068790e+00,  3.39336097e-01],\n",
       "       [ 5.40121698e+00,  8.83013725e+00],\n",
       "       [ 1.68545976e-01,  1.58045425e+01],\n",
       "       [-6.74639195e-02, -3.29630584e-01],\n",
       "       [-9.33938622e-01, -6.92530727e+00],\n",
       "       [ 1.83631554e+01,  3.71404624e+00],\n",
       "       [ 5.06874943e+00,  1.96495605e+00],\n",
       "       [ 1.04149971e+01,  2.83127499e+00],\n",
       "       [-5.29631519e+00,  3.05013925e-01],\n",
       "       [-6.84044540e-01, -6.03312588e+00],\n",
       "       [ 1.14866190e-01, -4.56821585e+00],\n",
       "       [ 7.94494581e+00,  3.92055005e-01],\n",
       "       [-4.77365255e+00,  1.32004881e+00],\n",
       "       [ 4.90513414e-01,  1.01858294e+00],\n",
       "       [ 4.21834087e+00,  1.21118488e+01],\n",
       "       [-9.60616231e-01, -1.96548447e-01],\n",
       "       [ 1.08928318e+01,  1.42528038e+01],\n",
       "       [-1.99299889e+01,  4.81979132e-01],\n",
       "       [ 2.47051075e-01,  4.80989790e+00],\n",
       "       [ 1.89313304e+00, -1.26294403e+01],\n",
       "       [-4.85663474e-01,  9.43354592e-02],\n",
       "       [ 6.24418370e-02,  1.07111347e+00],\n",
       "       [ 1.08478785e-01,  2.96494126e-01],\n",
       "       [ 1.46952343e+00, -1.26030505e+00],\n",
       "       [-1.38821352e+00, -1.41668930e+01],\n",
       "       [-1.37122650e+01, -6.11860216e-01],\n",
       "       [ 5.39910603e+00,  1.98524106e+00],\n",
       "       [ 2.11499780e-01,  2.90673643e-01],\n",
       "       [ 1.71070874e+00, -8.86029899e-01],\n",
       "       [ 6.42358971e+00,  1.30704939e-01],\n",
       "       [-6.88678205e-01, -2.22265553e+00],\n",
       "       [ 6.11383009e+00,  5.94740152e+00],\n",
       "       [ 5.45030022e+00,  1.31343813e+01],\n",
       "       [-4.14512396e+00, -1.07589495e+00],\n",
       "       [ 1.90087776e+01,  1.16643381e+01],\n",
       "       [ 1.83631554e+01,  3.71404624e+00],\n",
       "       [-4.45631790e+00, -1.68127090e-01],\n",
       "       [ 5.01067448e+00,  5.79651892e-01],\n",
       "       [-9.64474320e-01,  1.74057186e-01],\n",
       "       [-9.02624989e+00, -1.81385592e-01],\n",
       "       [ 9.12414360e+00, -5.59734665e-02],\n",
       "       [ 1.37889996e-01,  2.17536378e+00],\n",
       "       [ 1.01474357e+00,  3.62221265e+00],\n",
       "       [-6.49590790e-01, -1.99092913e+00],\n",
       "       [ 1.40345478e+00, -5.88215446e+00],\n",
       "       [-2.40450168e+00, -1.73906970e+00],\n",
       "       [-1.73355217e+01, -3.42676306e+00],\n",
       "       [ 9.53111839e+00,  7.01978111e+00],\n",
       "       [ 8.84546280e+00,  6.02511024e+00],\n",
       "       [-4.65808004e-01, -3.76305914e+00],\n",
       "       [-2.71803927e+00,  8.70319653e+00],\n",
       "       [ 5.39910603e+00,  1.98524106e+00],\n",
       "       [-4.02815580e+00, -2.24237740e-02],\n",
       "       [ 1.01127958e+00, -1.08947515e+00],\n",
       "       [ 5.81419420e+00,  1.10225928e+00],\n",
       "       [-5.16719580e-01, -2.33848429e+00],\n",
       "       [-4.23937082e+00,  2.36060917e-01],\n",
       "       [-1.72695179e+01, -4.02467442e+00],\n",
       "       [ 7.86970854e+00, -3.07269961e-01],\n",
       "       [-1.24383087e+01, -2.82976598e-01],\n",
       "       [ 7.15662956e+00,  4.52957392e-01],\n",
       "       [-9.97555792e-01, -5.48725700e+00],\n",
       "       [-4.52832311e-01,  1.89391673e-01],\n",
       "       [ 5.38265228e-01,  4.03086042e+00],\n",
       "       [-1.47142611e-03,  1.67493641e+00],\n",
       "       [-1.09208908e+01, -3.87388539e+00],\n",
       "       [ 8.99708366e+00, -8.38568592e+00],\n",
       "       [-4.21996927e+00, -5.17896175e-01],\n",
       "       [-1.36031303e+01,  3.52240801e+00],\n",
       "       [-9.65666866e+00, -1.14100552e+00],\n",
       "       [ 2.05698442e+00,  5.73498058e+00],\n",
       "       [ 1.49552692e-02, -5.69770765e+00],\n",
       "       [-9.52053738e+00, -2.23916340e+00],\n",
       "       [ 7.21538305e+00,  2.54841113e+00],\n",
       "       [ 1.07569971e+01,  4.31025839e+00],\n",
       "       [ 9.83382702e+00, -8.91334936e-03],\n",
       "       [-1.47479653e+00,  1.00725770e+00],\n",
       "       [-4.53026915e+00,  1.97890472e+00],\n",
       "       [-1.96714714e-01,  1.44845176e+00],\n",
       "       [ 6.10083580e-01,  8.96697712e+00],\n",
       "       [-6.10449255e-01, -3.84319258e+00],\n",
       "       [-2.51629561e-01,  1.63039386e+00],\n",
       "       [ 5.05929041e+00, -1.81427225e-01],\n",
       "       [-1.21765070e+01, -3.73926568e+00],\n",
       "       [-5.72669888e+00,  2.77625346e+00],\n",
       "       [-3.44247794e+00, -1.21530018e+01],\n",
       "       [-2.70966411e+00, -1.52216947e+00],\n",
       "       [ 2.51338029e+00,  1.00106430e+01]], dtype=float32)>"
      ]
     },
     "execution_count": 220,
     "metadata": {},
     "output_type": "execute_result"
    }
   ],
   "source": [
    "@tf.function\n",
    "def tf_loss2(x, y, A):\n",
    "    n = tf.constant(x.shape[0])\n",
    "    i = 0\n",
    "    term3 = tf.TensorArray(tf.float32, size=n)\n",
    "    while tf.less(i, n):\n",
    "#         term2.append(tf.matmul(y[i], tf.matmul(A[i], tf.transpose(x[i]))))\n",
    "        term3 = term3.write(i, x[i]*y[i])\n",
    "        i = i+1\n",
    "    return term3.stack()\n",
    "\n",
    "idx = np.random.randint(0, X_train.shape[0], 100)\n",
    "xx, yy, A = X_train[idx].astype(float32), Y_train[idx].astype(float32), A_train[idx].astype(float32)\n",
    "\n",
    "tf_loss2(tf.constant(xx), tf.constant(yy), tf.constant(A))\n"
   ]
  },
  {
   "cell_type": "code",
   "execution_count": 25,
   "metadata": {},
   "outputs": [],
   "source": [
    "\n",
    "@tf.function\n",
    "def tf_fwdmodel(x, A):\n",
    "    return tf.matmul(x, A)\n",
    "\n",
    "@tf.function\n",
    "def tf_loss(x, y, A):\n",
    "    term1 = 0.5 * tf.matmul(x, tf.matmul(tf.transpose(A), tf.matmul(A, tf.transpose(x)))) \n",
    "    term2 = - tf.matmul(y, tf.matmul(A, tf.transpose(x)))\n",
    "    return term2 + term2\n",
    "\n",
    "#     return tf.reduce_sum(y - tf.einsum('ij,ijl'))\n",
    "@tf.function\n",
    "def tf_loss2(x, y, A):\n",
    "    n = tf.constant(x.shape[0])\n",
    "    i = 0\n",
    "    term2 = 0\n",
    "    while tf.less(i, n):\n",
    "        term2 = term2 - tf.matmul(y, tf.matmul(A, tf.transpose(x)))\n",
    "        i = i+1\n",
    "    return term2\n",
    "#     return tf.reduce_sum(y - tf.einsum('ij,ijl'))\n",
    "\n",
    "@tf.function\n",
    "def grad(x, y, A):\n",
    "    with tf.GradientTape() as tape:\n",
    "        tape.watch(x)\n",
    "        loss = tf_loss(x, y, A)\n",
    "    grad = tape.gradient(loss, x)\n",
    "    return grad\n",
    "\n",
    "\n",
    "\n",
    "@tf.function\n",
    "def augmented_step_full(x, states, y, A):\n",
    "    print('graph')\n",
    "    gradient = grad(x, y, A)\n",
    "    inp = tf.concat([y, gradient], axis=-1)\n",
    "    return cell(inp, states)                        \n",
    "\n",
    "@tf.function\n",
    "def augmented_step(x, states):\n",
    "    gradient = grad(x, yy, A)\n",
    "    xconcat = tf.concat([x, gradient], axis=-1)\n",
    "    return cell(xconcat, states)                        \n",
    "\n",
    "# @tf.function\n",
    "# def tf_fwdrim(x, y, A, initstates=None):\n",
    "    \n",
    "#     if initstates is None: \n",
    "#         initstates = [states[0]*0, states[1]*0]\n",
    "#     step = lambda x, states: augmented_step_full(x, states, \n",
    "#                                               tf.constant(y), \n",
    "#                                               tf.constant(A))\n",
    "#     return step(tf.constant(y), initstates)\n",
    "#     out = rim(step, tf.constant(y), initstates, 10)\n",
    "#     return out\n",
    "\n",
    "\n",
    "# @tf.function\n",
    "def tf_fwdrim(x, y, A, initstates=None):\n",
    "    \n",
    "    if initstates is None: \n",
    "        initstates = [tf.constant(yy*0), tf.constant(yy*0)]\n",
    "        \n",
    "    step = lambda x, states: augmented_step_full(x, states, \n",
    "                                              tf.constant(yy*float32(np.random.normal(0, 1, 1))), \n",
    "                                              tf.constant(A*float32(np.random.normal(0, 1, 1))))\n",
    "#     def step(x, states):\n",
    "#         print('graph')\n",
    "#         gradient = grad(x, tf.constant(y), tf.constant(A))\n",
    "#         inp = tf.concat([y, gradient], axis=-1)\n",
    "#         return cell(inp, states)                        \n",
    "#     return step(tf.constant(y), initstates)\n",
    "    out = rim(step, tf.constant(y), initstates)\n",
    "#     out = rim(augmented_step, tf.constant(y), initstates)\n",
    "    return out\n",
    "\n",
    "\n",
    "@tf.function\n",
    "def tf_fwdrim_loop(x, y, A, initstates=None):\n",
    "    \n",
    "    if initstates is None: \n",
    "        initstates = [y*0., y*0.]\n",
    "        \n",
    "    step = lambda x, states: augmented_step_full(x, states, \n",
    "#                                               tf.constant(yy*(np.random.normal(0, 1, 1))), \n",
    "#                                               tf.constant(A*(np.random.normal(0, 1, 1))))\n",
    "                                              y, A)\n",
    "\n",
    "    outputs_ta = tf.TensorArray(size=niter, dtype=tf.float32)\n",
    "    states_ta = tf.TensorArray(size=niter, dtype=tf.float32)\n",
    "\n",
    "    def body(i, output_ta, states, state_ta):    \n",
    "        new_output, new_state = step(y, states)\n",
    "        output_ta = output_ta.write(i, new_output)\n",
    "        state_ta = state_ta.write(i, new_state)\n",
    "        return i +1 , output_ta, new_state, state_ta\n",
    "    \n",
    "    def cond(i, outputs_ta, states, state_ta):\n",
    "        return i < niter\n",
    "\n",
    "    final_output = tf.while_loop(\n",
    "        cond,\n",
    "        body,\n",
    "        loop_vars=[\n",
    "            0, outputs_ta, initstates, states_ta\n",
    "        ],\n",
    "        )\n",
    "    \n",
    "    return final_output[1].stack(), final_output[3].stack()\n",
    "\n",
    "\n",
    "@tf.function\n",
    "def tf_fwdrim_loop2(x, y, A, initstates=None):\n",
    "    \n",
    "    if initstates is None: \n",
    "        initstates = [y*0., y*0.]\n",
    "        \n",
    "    outputs_ta = tf.TensorArray(size=niter, dtype=tf.float32)\n",
    "    states_ta = tf.TensorArray(size=niter, dtype=tf.float32)\n",
    "\n",
    "    def body(i, output_ta, states, state_ta):  \n",
    "        print(i)\n",
    "        gradient = grad(x, y, A)\n",
    "        xconcat = tf.concat([y, gradient], axis=-1)\n",
    "        print(xconcat.shape, states[0].shape, states[1].shape)\n",
    "        new_output, new_state = cell(xconcat, states)\n",
    "        output_ta = output_ta.write(i, new_output)\n",
    "        state_ta = state_ta.write(i, new_state)\n",
    "        return i +1 , output_ta, new_state, state_ta\n",
    "    \n",
    "    i = tf.constant(0, dtype=tf.int32)\n",
    "    curr_state = initstates\n",
    "    while tf.less(i, tf.constant(niter)):\n",
    "        print(i)\n",
    "        i, outputs_ta, curr_state, states_ta =  body(i, outputs_ta, curr_state, states_ta)\n",
    "    \n",
    "    return outputs_ta.stack(), states_ta.stack()\n"
   ]
  },
  {
   "cell_type": "code",
   "execution_count": 26,
   "metadata": {},
   "outputs": [
    {
     "name": "stdout",
     "output_type": "stream",
     "text": [
      "Tensor(\"while/Placeholder_4:0\", shape=(), dtype=int32)\n",
      "Tensor(\"while/Placeholder_4:0\", shape=(), dtype=int32)\n",
      "(100, 4) (100, 2) (100, 2)\n"
     ]
    }
   ],
   "source": [
    "# tf_fwdrim(tf.constant(X_train[idx], Y_train[idx], A_train[idx]))\n",
    "out = tf_fwdrim_loop2(tf.constant(X_train[idx]), tf.constant(Y_train[idx]), tf.constant(A_train[0]))\n",
    "\n",
    "# for i in range(100):\n",
    "#     out = tf_fwdrim_loop(tf.constant(X_train[idx]), tf.constant(Y_train[idx]), tf.constant(A_train[0]))\n"
   ]
  },
  {
   "cell_type": "code",
   "execution_count": 29,
   "metadata": {},
   "outputs": [],
   "source": [
    "out[0];"
   ]
  },
  {
   "cell_type": "code",
   "execution_count": 278,
   "metadata": {},
   "outputs": [],
   "source": [
    "# def tf_fwdrim2(x, y, A, initstates=None):\n",
    "    \n",
    "#     if initstates is None: \n",
    "#         initstates = [tf.constant(yy*0), tf.constant(yy*0)]\n",
    "        \n",
    "#     step = lambda x, states: augmented_step_full(x, states, \n",
    "#                                               tf.constant(y), \n",
    "#                                               tf.constant(A))\n",
    "#     time = constant_op.constant(0, dtype='int32', name='time')\n",
    "\n",
    "#     while_loop_kwargs = {\n",
    "#       'cond': lambda time, *_: time < niter,\n",
    "#       'maximum_iterations': niter,\n",
    "#       'parallel_iterations': 32,\n",
    "#       'swap_memory': True,\n",
    "#     }\n",
    "\n",
    "#     def _step(time, output_ta_t, *states):\n",
    "#         \"\"\"RNN step function.                                                                                                                                     \n",
    "#         Arguments:                                                                                                                                                \n",
    "#             time: Current timestep value.                                                                                                                         \n",
    "#             current_solution: current solution                                                                                                                    \n",
    "#             output_ta_t: TensorArray.                                                                                                                             \n",
    "#             *states: List of states.                                                                                                                              \n",
    "#         Returns:                                                                                                                                                  \n",
    "#             Tuple: `(time + 1, output_ta_t) + tuple(new_states)`                                                                                                  \n",
    "#         \"\"\"\n",
    "#         # The input to the RIM is the current solution,                                                                                                           \n",
    "#         output, new_states = step(inputs,\n",
    "#                                            tuple(states) + tuple(constants))\n",
    "#         print(\"output : \", output)\n",
    "#         flat_state = nest.flatten(states)\n",
    "#         flat_new_state = nest.flatten(new_states)\n",
    "#         for state, new_state in zip(flat_state, flat_new_state):\n",
    "#           if isinstance(new_state, ops.Tensor):\n",
    "#             new_state.set_shape(state.shape)\n",
    "\n",
    "#         flat_output = nest.flatten(output)\n",
    "#         print(\"flat_output : \", flat_output)\n",
    "#         output_ta_t = tuple(\n",
    "#             ta.write(time, out) for ta, out in zip(output_ta_t, flat_output))\n",
    "#         new_states = nest.pack_sequence_as(initial_states, flat_new_state)\n",
    "#         return (time + 1, output_ta_t) + tuple(new_states)\n",
    "\n",
    "#     final_outputs = control_flow_ops.while_loop(\n",
    "#       body=_step,\n",
    "#       loop_vars=(time, output_ta) + states,\n",
    "#       **while_loop_kwargs)\n",
    "\n",
    "\n",
    "#     return step(tf.constant(y), initstates)\n",
    "#     out = rim(step, tf.constant(y), initstates, 5)\n",
    "#     return out"
   ]
  },
  {
   "cell_type": "code",
   "execution_count": 279,
   "metadata": {},
   "outputs": [],
   "source": [
    "for i in range(20):\n",
    "    augmented_step(tf.constant(yy), [tf.constant(yy)*0, tf.constant(yy)*0])    "
   ]
  },
  {
   "cell_type": "code",
   "execution_count": 280,
   "metadata": {},
   "outputs": [
    {
     "name": "stdout",
     "output_type": "stream",
     "text": [
      "output :  Tensor(\"while/StatefulPartitionedCall:0\", shape=(100, 2), dtype=float32)\n",
      "flat_output :  [<tf.Tensor 'while/StatefulPartitionedCall:0' shape=(100, 2) dtype=float32>]\n",
      "Tensor(\"TensorArrayV2Stack/TensorListStack:0\", shape=(10, 100, 2), dtype=float32)\n"
     ]
    }
   ],
   "source": [
    "for i in range(30):\n",
    "    rim(augmented_step, tf.constant(yy), [tf.constant(yy)*np.random.randint(1), \n",
    "                                          tf.constant(yy)**np.random.randint(1)]);\n",
    "\n"
   ]
  },
  {
   "cell_type": "code",
   "execution_count": 281,
   "metadata": {},
   "outputs": [],
   "source": [
    "# for i in range(10):\n",
    "#     tf_fwdrim(tf.constant(X_train[idx]), tf.constant(Y_train[idx]), tf.constant(A_train[0]))"
   ]
  },
  {
   "cell_type": "code",
   "execution_count": 282,
   "metadata": {},
   "outputs": [
    {
     "name": "stdout",
     "output_type": "stream",
     "text": [
      "output :  Tensor(\"while/StatefulPartitionedCall:0\", shape=(100, 2), dtype=float32)\n",
      "flat_output :  [<tf.Tensor 'while/StatefulPartitionedCall:0' shape=(100, 2) dtype=float32>]\n",
      "Tensor(\"TensorArrayV2Stack/TensorListStack:0\", shape=(10, 100, 2), dtype=float32)\n"
     ]
    }
   ],
   "source": [
    "# %%timeit\n",
    "\n",
    "for i in range(100):\n",
    "    out = rim(augmented_step, tf.constant(yy), states)\n"
   ]
  },
  {
   "cell_type": "code",
   "execution_count": 244,
   "metadata": {},
   "outputs": [
    {
     "name": "stdout",
     "output_type": "stream",
     "text": [
      "1.47 s ± 21.7 ms per loop (mean ± std. dev. of 7 runs, 1 loop each)\n"
     ]
    }
   ],
   "source": [
    "%%timeit \n",
    "\n",
    "for i in range(100):\n",
    "    lstep = lambda x, states: augmented_step_full(x, states, \n",
    "                                              tf.constant(yy*float32(np.random.normal(0, 1, 1))), \n",
    "                                              tf.constant(A*float32(np.random.normal(0, 1, 1))))\n",
    "    out = rim(lstep, tf.constant(yy), states, 5)\n"
   ]
  },
  {
   "cell_type": "code",
   "execution_count": 151,
   "metadata": {},
   "outputs": [],
   "source": [
    "class myRIM(tf.keras.Model):\n",
    "\n",
    "    def __init__(self, cell, niter):\n",
    "#     def __init__(self, output_size, input_shape, niter):\n",
    "        super(myRIM, self).__init__()\n",
    "        self.cell = cell\n",
    "#         self.cell = LSTMCell(output_size)\n",
    "#         self.cell.build(input_shape)\n",
    "        self.niter = niter\n",
    "\n",
    "            \n",
    "    def call(self, x_init, y, grad_fn, grad_args, initstates = None, return_steps=False):\n",
    "        \n",
    "        outputs_ta = tf.TensorArray(size=self.niter, dtype=tf.float32)\n",
    "        states_ta = tf.TensorArray(size=self.niter, dtype=tf.float32)\n",
    "        \n",
    "        if initstates is None: \n",
    "            initstates = [x_init, x_init*0.]\n",
    "#             initstates = [y*0., y*0.]\n",
    "    \n",
    "    \n",
    "        def body(i, output_ta, states, state_ta):  \n",
    "            gradient = grad_fn(states[0], y, *grad_args)\n",
    "            cell_state_concat = tf.concat([y, gradient], axis=-1)\n",
    "            new_output, new_state = self.cell(cell_state_concat, states)\n",
    "            output_ta = output_ta.write(i, new_output)\n",
    "            state_ta = state_ta.write(i, new_state)\n",
    "            return i +1 , output_ta, new_state, state_ta\n",
    "\n",
    "#         def cond(i, outputs_ta, states, state_ta):\n",
    "#             return i < niter\n",
    "#         final_output = tf.while_loop(\n",
    "#             cond, body, loop_vars=[0, self.outputs_ta, initstates, self.states_ta])\n",
    "#         return final_output[1].stack(), final_output[3].stack()\n",
    "\n",
    "        i = tf.constant(0, dtype=tf.int32)\n",
    "        curr_state = initstates\n",
    "        while tf.less(i, tf.constant(self.niter)):\n",
    "            i, outputs_ta, curr_state, states_ta =  body(i, outputs_ta, curr_state, states_ta)\n",
    "\n",
    "        return outputs_ta.stack(), states_ta.stack()\n"
   ]
  },
  {
   "cell_type": "code",
   "execution_count": 152,
   "metadata": {},
   "outputs": [],
   "source": [
    "cell = LSTMCell(2)\n",
    "# cell = LSTMCell(output_size)\n",
    "cell.build(input_shape=[None, 4])\n",
    "testrim = myRIM(cell, niter=5)\n",
    "\n",
    "\n",
    "idx = np.random.randint(0, X_train.shape[0], 1)\n",
    "xinit, xx, yy = X0_train[idx].astype(float32), X_train[idx].astype(float32), Y_train[idx].astype(float32)\n",
    "out, states = testrim(x_init=tf.constant(xx), y=tf.constant(yy), grad_fn=grad, grad_args=[tf.constant(A)])\n",
    "\n"
   ]
  },
  {
   "cell_type": "code",
   "execution_count": 153,
   "metadata": {},
   "outputs": [],
   "source": [
    "idx = np.random.randint(0, X_train.shape[0], 10)\n",
    "xinit, xx, yy = X0_train[idx].astype(float32), X_train[idx].astype(float32), Y_train[idx].astype(float32)\n",
    "out, states = testrim(x_init=tf.constant(xx), y=tf.constant(yy), grad_fn=grad, grad_args=[tf.constant(A)])\n"
   ]
  },
  {
   "cell_type": "code",
   "execution_count": 115,
   "metadata": {},
   "outputs": [],
   "source": [
    "# testcell = LSTMCell(2)\n",
    "# xinp = tf.concat([tf.constant(yy), tf.constant(xx)], axis=-1)\n",
    "# teststates = [tf.constant(yy)*0, tf.constant(yy)*0]\n",
    "# testcell(xinp, teststates)"
   ]
  },
  {
   "cell_type": "code",
   "execution_count": 172,
   "metadata": {},
   "outputs": [],
   "source": [
    "\n",
    "testrim.trainable_variables\n",
    "# Create an optimizer for Adam.                                                                                                                           \n",
    "opt = tf.keras.optimizers.Adam(learning_rate=0.01)\n",
    "\n",
    "\n",
    "\n",
    "# @tf.function\n",
    "def rim_train(x_true, x_init, y, A):\n",
    "    with tf.GradientTape() as tape:\n",
    "        x_pred, states = testrim(x_init, y, grad, [A])\n",
    "#         loss = tf.losses.mse(x_true, x_pred)\n",
    "        loss = tf.reduce_sum((x_true- x_pred)**2)\n",
    "    gradients = tape.gradient(loss, testrim.trainable_variables)\n",
    "    opt.apply_gradients(zip(gradients, testrim.trainable_variables))\n",
    "    return loss\n",
    "\n",
    "\n",
    "    \n",
    "# idx = np.random.randint(0, X_train.shape[0], 100)\n",
    "# xinit, xx, yy = X0_train[idx].astype(float32), X_train[idx].astype(float32), Y_train[idx].astype(float32)\n",
    "\n",
    "# with tf.GradientTape() as tape:\n",
    "#     tape.watch(testrim.trainable_variables)\n",
    "#     out, states = testrim(tf.constant(xinit),  tf.constant(yy), grad, [tf.constant(A)])\n",
    "#     testloss = tf.reduce_sum(out - tf.constant(xx))\n",
    "# testgrads  = tape.gradient(testloss, testrim.trainable_variables)\n",
    "    \n",
    "    \n",
    "    "
   ]
  },
  {
   "cell_type": "code",
   "execution_count": 178,
   "metadata": {},
   "outputs": [],
   "source": [
    "idx = np.random.randint(0, X_train.shape[0], 100)\n",
    "xx, yy = X_train[idx].astype(float32), Y_train[idx].astype(float32)\n",
    "A = A_train[0]\n",
    "\n",
    "losses = []\n",
    "for i in range(1000):\n",
    "    idx = np.random.randint(0, X_train.shape[0], 100)\n",
    "    xinit, xx, yy = X0_train[idx].astype(float32), X_train[idx].astype(float32), Y_train[idx].astype(float32)\n",
    "    yy = yy*0. + Y_train[0]\n",
    "    losses.append(rim_train(tf.constant(xx), tf.constant(xinit), tf.constant(yy), tf.constant(A)).numpy())\n",
    "    "
   ]
  },
  {
   "cell_type": "code",
   "execution_count": 188,
   "metadata": {},
   "outputs": [],
   "source": [
    "idx = np.random.randint(0, X_train.shape[0], 1)\n",
    "xinit, xx, yy = X0_train[idx].astype(float32), X_train[idx].astype(float32), Y_train[idx].astype(float32)\n",
    "out = testrim(tf.constant(xinit), tf.constant(yy), grad, [tf.constant(A)])\n"
   ]
  },
  {
   "cell_type": "code",
   "execution_count": 197,
   "metadata": {},
   "outputs": [
    {
     "data": {
      "text/plain": [
       "array([[-1.543383  , -1.3730705 ],\n",
       "       [-0.8006595 ,  1.3458217 ],\n",
       "       [-2.080731  , -1.235418  ],\n",
       "       [-3.3363442 , -3.2247603 ],\n",
       "       [ 0.7563323 , -2.3757393 ],\n",
       "       [-2.5223396 , -0.02354621],\n",
       "       [ 0.20251289,  0.8606195 ],\n",
       "       [-0.26382193,  4.8916726 ],\n",
       "       [-1.2714208 , -0.6261333 ],\n",
       "       [-0.79588896,  3.1999032 ]], dtype=float32)"
      ]
     },
     "execution_count": 197,
     "metadata": {},
     "output_type": "execute_result"
    }
   ],
   "source": [
    "yy"
   ]
  },
  {
   "cell_type": "code",
   "execution_count": 202,
   "metadata": {},
   "outputs": [
    {
     "data": {
      "text/plain": [
       "[<tf.Tensor: shape=(10, 2), dtype=float32, numpy=\n",
       " array([[ 1.8030394 ,  4.4507194 ],\n",
       "        [-2.905537  ,  3.159781  ],\n",
       "        [ 3.5907829 , -2.840897  ],\n",
       "        [ 0.35531363,  2.4773304 ],\n",
       "        [-3.7266479 ,  0.21732265],\n",
       "        [-1.2307622 ,  3.0592532 ],\n",
       "        [ 0.0428472 ,  4.7865276 ],\n",
       "        [ 4.311236  , -3.7869058 ],\n",
       "        [ 3.590968  , -2.2099767 ],\n",
       "        [-0.9574124 ,  1.0907409 ]], dtype=float32)>,\n",
       " <tf.Tensor: shape=(10, 2), dtype=float32, numpy=\n",
       " array([[-0.0909396, -2.755878 ],\n",
       "        [-1.5093414,  2.7498572],\n",
       "        [ 2.9719276, -2.3863926],\n",
       "        [ 0.956058 , -1.5771611],\n",
       "        [ 2.8938398, -0.7041886],\n",
       "        [ 1.9706565, -0.5830723],\n",
       "        [-0.536249 , -2.937032 ],\n",
       "        [ 2.2107625, -1.8536984],\n",
       "        [-3.243789 , -1.2357949],\n",
       "        [ 2.611218 , -0.662962 ]], dtype=float32)>]"
      ]
     },
     "execution_count": 202,
     "metadata": {},
     "output_type": "execute_result"
    }
   ],
   "source": [
    "tf.unstack([tf.constant(xx), tf.constant(yy)])"
   ]
  },
  {
   "cell_type": "code",
   "execution_count": 201,
   "metadata": {},
   "outputs": [
    {
     "ename": "ValueError",
     "evalue": "The two structures don't have the same nested structure.\n\nFirst structure: type=list str=[<tf.Tensor: shape=(10, 2), dtype=float32, numpy=\narray([[ 1.8030394 ,  4.4507194 ],\n       [-2.905537  ,  3.159781  ],\n       [ 3.5907829 , -2.840897  ],\n       [ 0.35531363,  2.4773304 ],\n       [-3.7266479 ,  0.21732265],\n       [-1.2307622 ,  3.0592532 ],\n       [ 0.0428472 ,  4.7865276 ],\n       [ 4.311236  , -3.7869058 ],\n       [ 3.590968  , -2.2099767 ],\n       [-0.9574124 ,  1.0907409 ]], dtype=float32)>, <tf.Tensor: shape=(10, 2), dtype=float32, numpy=\narray([[-0.0909396, -2.755878 ],\n       [-1.5093414,  2.7498572],\n       [ 2.9719276, -2.3863926],\n       [ 0.956058 , -1.5771611],\n       [ 2.8938398, -0.7041886],\n       [ 1.9706565, -0.5830723],\n       [-0.536249 , -2.937032 ],\n       [ 2.2107625, -1.8536984],\n       [-3.243789 , -1.2357949],\n       [ 2.611218 , -0.662962 ]], dtype=float32)>]\n\nSecond structure: type=EagerTensor str=tf.Tensor([1.8030394 4.4507194], shape=(2,), dtype=float32)\n\nMore specifically: Substructure \"type=list str=[<tf.Tensor: shape=(10, 2), dtype=float32, numpy=\narray([[ 1.8030394 ,  4.4507194 ],\n       [-2.905537  ,  3.159781  ],\n       [ 3.5907829 , -2.840897  ],\n       [ 0.35531363,  2.4773304 ],\n       [-3.7266479 ,  0.21732265],\n       [-1.2307622 ,  3.0592532 ],\n       [ 0.0428472 ,  4.7865276 ],\n       [ 4.311236  , -3.7869058 ],\n       [ 3.590968  , -2.2099767 ],\n       [-0.9574124 ,  1.0907409 ]], dtype=float32)>, <tf.Tensor: shape=(10, 2), dtype=float32, numpy=\narray([[-0.0909396, -2.755878 ],\n       [-1.5093414,  2.7498572],\n       [ 2.9719276, -2.3863926],\n       [ 0.956058 , -1.5771611],\n       [ 2.8938398, -0.7041886],\n       [ 1.9706565, -0.5830723],\n       [-0.536249 , -2.937032 ],\n       [ 2.2107625, -1.8536984],\n       [-3.243789 , -1.2357949],\n       [ 2.611218 , -0.662962 ]], dtype=float32)>]\" is a sequence, while substructure \"type=EagerTensor str=tf.Tensor([1.8030394 4.4507194], shape=(2,), dtype=float32)\" is not\nEntire first structure:\n[., .]\nEntire second structure:\n.",
     "output_type": "error",
     "traceback": [
      "\u001b[0;31m---------------------------------------------------------------------------\u001b[0m",
      "\u001b[0;31mValueError\u001b[0m                                Traceback (most recent call last)",
      "\u001b[0;32m~/miniconda3/envs/defpyn/lib/python3.8/site-packages/tensorflow/python/util/nest.py\u001b[0m in \u001b[0;36massert_same_structure\u001b[0;34m(nest1, nest2, check_types, expand_composites)\u001b[0m\n\u001b[1;32m    393\u001b[0m   \u001b[0;32mtry\u001b[0m\u001b[0;34m:\u001b[0m\u001b[0;34m\u001b[0m\u001b[0;34m\u001b[0m\u001b[0m\n\u001b[0;32m--> 394\u001b[0;31m     _pywrap_utils.AssertSameStructure(nest1, nest2, check_types,\n\u001b[0m\u001b[1;32m    395\u001b[0m                                       expand_composites)\n",
      "\u001b[0;31mValueError\u001b[0m: The two structures don't have the same nested structure.\n\nFirst structure: type=list str=[<tf.Tensor: shape=(10, 2), dtype=float32, numpy=\narray([[ 1.8030394 ,  4.4507194 ],\n       [-2.905537  ,  3.159781  ],\n       [ 3.5907829 , -2.840897  ],\n       [ 0.35531363,  2.4773304 ],\n       [-3.7266479 ,  0.21732265],\n       [-1.2307622 ,  3.0592532 ],\n       [ 0.0428472 ,  4.7865276 ],\n       [ 4.311236  , -3.7869058 ],\n       [ 3.590968  , -2.2099767 ],\n       [-0.9574124 ,  1.0907409 ]], dtype=float32)>, <tf.Tensor: shape=(10, 2), dtype=float32, numpy=\narray([[-0.0909396, -2.755878 ],\n       [-1.5093414,  2.7498572],\n       [ 2.9719276, -2.3863926],\n       [ 0.956058 , -1.5771611],\n       [ 2.8938398, -0.7041886],\n       [ 1.9706565, -0.5830723],\n       [-0.536249 , -2.937032 ],\n       [ 2.2107625, -1.8536984],\n       [-3.243789 , -1.2357949],\n       [ 2.611218 , -0.662962 ]], dtype=float32)>]\n\nSecond structure: type=EagerTensor str=tf.Tensor([1.8030394 4.4507194], shape=(2,), dtype=float32)\n\nMore specifically: Substructure \"type=list str=[<tf.Tensor: shape=(10, 2), dtype=float32, numpy=\narray([[ 1.8030394 ,  4.4507194 ],\n       [-2.905537  ,  3.159781  ],\n       [ 3.5907829 , -2.840897  ],\n       [ 0.35531363,  2.4773304 ],\n       [-3.7266479 ,  0.21732265],\n       [-1.2307622 ,  3.0592532 ],\n       [ 0.0428472 ,  4.7865276 ],\n       [ 4.311236  , -3.7869058 ],\n       [ 3.590968  , -2.2099767 ],\n       [-0.9574124 ,  1.0907409 ]], dtype=float32)>, <tf.Tensor: shape=(10, 2), dtype=float32, numpy=\narray([[-0.0909396, -2.755878 ],\n       [-1.5093414,  2.7498572],\n       [ 2.9719276, -2.3863926],\n       [ 0.956058 , -1.5771611],\n       [ 2.8938398, -0.7041886],\n       [ 1.9706565, -0.5830723],\n       [-0.536249 , -2.937032 ],\n       [ 2.2107625, -1.8536984],\n       [-3.243789 , -1.2357949],\n       [ 2.611218 , -0.662962 ]], dtype=float32)>]\" is a sequence, while substructure \"type=EagerTensor str=tf.Tensor([1.8030394 4.4507194], shape=(2,), dtype=float32)\" is not",
      "\nDuring handling of the above exception, another exception occurred:\n",
      "\u001b[0;31mValueError\u001b[0m                                Traceback (most recent call last)",
      "\u001b[0;32m<ipython-input-201-20e42a07675d>\u001b[0m in \u001b[0;36m<module>\u001b[0;34m\u001b[0m\n\u001b[1;32m      2\u001b[0m \u001b[0mxinit\u001b[0m\u001b[0;34m,\u001b[0m \u001b[0mxx\u001b[0m\u001b[0;34m,\u001b[0m \u001b[0myy\u001b[0m \u001b[0;34m=\u001b[0m \u001b[0mX0_train\u001b[0m\u001b[0;34m[\u001b[0m\u001b[0midx\u001b[0m\u001b[0;34m]\u001b[0m\u001b[0;34m.\u001b[0m\u001b[0mastype\u001b[0m\u001b[0;34m(\u001b[0m\u001b[0mfloat32\u001b[0m\u001b[0;34m)\u001b[0m\u001b[0;34m,\u001b[0m \u001b[0mX_train\u001b[0m\u001b[0;34m[\u001b[0m\u001b[0midx\u001b[0m\u001b[0;34m]\u001b[0m\u001b[0;34m.\u001b[0m\u001b[0mastype\u001b[0m\u001b[0;34m(\u001b[0m\u001b[0mfloat32\u001b[0m\u001b[0;34m)\u001b[0m\u001b[0;34m,\u001b[0m \u001b[0mY_train\u001b[0m\u001b[0;34m[\u001b[0m\u001b[0midx\u001b[0m\u001b[0;34m]\u001b[0m\u001b[0;34m.\u001b[0m\u001b[0mastype\u001b[0m\u001b[0;34m(\u001b[0m\u001b[0mfloat32\u001b[0m\u001b[0;34m)\u001b[0m\u001b[0;34m\u001b[0m\u001b[0;34m\u001b[0m\u001b[0m\n\u001b[1;32m      3\u001b[0m \u001b[0;34m\u001b[0m\u001b[0m\n\u001b[0;32m----> 4\u001b[0;31m \u001b[0mtf\u001b[0m\u001b[0;34m.\u001b[0m\u001b[0mmap_fn\u001b[0m\u001b[0;34m(\u001b[0m\u001b[0;32mlambda\u001b[0m \u001b[0ma\u001b[0m\u001b[0;34m:\u001b[0m \u001b[0ma\u001b[0m\u001b[0;34m[\u001b[0m\u001b[0;36m0\u001b[0m\u001b[0;34m]\u001b[0m\u001b[0;34m,\u001b[0m \u001b[0;34m[\u001b[0m\u001b[0mtf\u001b[0m\u001b[0;34m.\u001b[0m\u001b[0mconstant\u001b[0m\u001b[0;34m(\u001b[0m\u001b[0mxx\u001b[0m\u001b[0;34m)\u001b[0m\u001b[0;34m,\u001b[0m \u001b[0mtf\u001b[0m\u001b[0;34m.\u001b[0m\u001b[0mconstant\u001b[0m\u001b[0;34m(\u001b[0m\u001b[0myy\u001b[0m\u001b[0;34m)\u001b[0m\u001b[0;34m]\u001b[0m\u001b[0;34m)\u001b[0m\u001b[0;34m\u001b[0m\u001b[0;34m\u001b[0m\u001b[0m\n\u001b[0m",
      "\u001b[0;32m~/miniconda3/envs/defpyn/lib/python3.8/site-packages/tensorflow/python/util/deprecation.py\u001b[0m in \u001b[0;36mnew_func\u001b[0;34m(*args, **kwargs)\u001b[0m\n\u001b[1;32m    572\u001b[0m                   \u001b[0mfunc\u001b[0m\u001b[0;34m.\u001b[0m\u001b[0m__module__\u001b[0m\u001b[0;34m,\u001b[0m \u001b[0marg_name\u001b[0m\u001b[0;34m,\u001b[0m \u001b[0marg_value\u001b[0m\u001b[0;34m,\u001b[0m \u001b[0;34m'in a future version'\u001b[0m\u001b[0;34m\u001b[0m\u001b[0;34m\u001b[0m\u001b[0m\n\u001b[1;32m    573\u001b[0m                   if date is None else ('after %s' % date), instructions)\n\u001b[0;32m--> 574\u001b[0;31m       \u001b[0;32mreturn\u001b[0m \u001b[0mfunc\u001b[0m\u001b[0;34m(\u001b[0m\u001b[0;34m*\u001b[0m\u001b[0margs\u001b[0m\u001b[0;34m,\u001b[0m \u001b[0;34m**\u001b[0m\u001b[0mkwargs\u001b[0m\u001b[0;34m)\u001b[0m\u001b[0;34m\u001b[0m\u001b[0;34m\u001b[0m\u001b[0m\n\u001b[0m\u001b[1;32m    575\u001b[0m \u001b[0;34m\u001b[0m\u001b[0m\n\u001b[1;32m    576\u001b[0m     doc = _add_deprecated_arg_value_notice_to_docstring(\n",
      "\u001b[0;32m~/miniconda3/envs/defpyn/lib/python3.8/site-packages/tensorflow/python/util/deprecation.py\u001b[0m in \u001b[0;36mnew_func\u001b[0;34m(*args, **kwargs)\u001b[0m\n\u001b[1;32m    505\u001b[0m                 \u001b[0;34m'in a future version'\u001b[0m \u001b[0;32mif\u001b[0m \u001b[0mdate\u001b[0m \u001b[0;32mis\u001b[0m \u001b[0;32mNone\u001b[0m \u001b[0;32melse\u001b[0m \u001b[0;34m(\u001b[0m\u001b[0;34m'after %s'\u001b[0m \u001b[0;34m%\u001b[0m \u001b[0mdate\u001b[0m\u001b[0;34m)\u001b[0m\u001b[0;34m,\u001b[0m\u001b[0;34m\u001b[0m\u001b[0;34m\u001b[0m\u001b[0m\n\u001b[1;32m    506\u001b[0m                 instructions)\n\u001b[0;32m--> 507\u001b[0;31m       \u001b[0;32mreturn\u001b[0m \u001b[0mfunc\u001b[0m\u001b[0;34m(\u001b[0m\u001b[0;34m*\u001b[0m\u001b[0margs\u001b[0m\u001b[0;34m,\u001b[0m \u001b[0;34m**\u001b[0m\u001b[0mkwargs\u001b[0m\u001b[0;34m)\u001b[0m\u001b[0;34m\u001b[0m\u001b[0;34m\u001b[0m\u001b[0m\n\u001b[0m\u001b[1;32m    508\u001b[0m \u001b[0;34m\u001b[0m\u001b[0m\n\u001b[1;32m    509\u001b[0m     doc = _add_deprecated_arg_notice_to_docstring(\n",
      "\u001b[0;32m~/miniconda3/envs/defpyn/lib/python3.8/site-packages/tensorflow/python/ops/map_fn.py\u001b[0m in \u001b[0;36mmap_fn_v2\u001b[0;34m(fn, elems, dtype, parallel_iterations, back_prop, swap_memory, infer_shape, name, fn_output_signature)\u001b[0m\n\u001b[1;32m    631\u001b[0m   \u001b[0;32mif\u001b[0m \u001b[0mfn_output_signature\u001b[0m \u001b[0;32mis\u001b[0m \u001b[0;32mNone\u001b[0m\u001b[0;34m:\u001b[0m\u001b[0;34m\u001b[0m\u001b[0;34m\u001b[0m\u001b[0m\n\u001b[1;32m    632\u001b[0m     \u001b[0mfn_output_signature\u001b[0m \u001b[0;34m=\u001b[0m \u001b[0mdtype\u001b[0m\u001b[0;34m\u001b[0m\u001b[0;34m\u001b[0m\u001b[0m\n\u001b[0;32m--> 633\u001b[0;31m   return map_fn(\n\u001b[0m\u001b[1;32m    634\u001b[0m       \u001b[0mfn\u001b[0m\u001b[0;34m=\u001b[0m\u001b[0mfn\u001b[0m\u001b[0;34m,\u001b[0m\u001b[0;34m\u001b[0m\u001b[0;34m\u001b[0m\u001b[0m\n\u001b[1;32m    635\u001b[0m       \u001b[0melems\u001b[0m\u001b[0;34m=\u001b[0m\u001b[0melems\u001b[0m\u001b[0;34m,\u001b[0m\u001b[0;34m\u001b[0m\u001b[0;34m\u001b[0m\u001b[0m\n",
      "\u001b[0;32m~/miniconda3/envs/defpyn/lib/python3.8/site-packages/tensorflow/python/util/deprecation.py\u001b[0m in \u001b[0;36mnew_func\u001b[0;34m(*args, **kwargs)\u001b[0m\n\u001b[1;32m    505\u001b[0m                 \u001b[0;34m'in a future version'\u001b[0m \u001b[0;32mif\u001b[0m \u001b[0mdate\u001b[0m \u001b[0;32mis\u001b[0m \u001b[0;32mNone\u001b[0m \u001b[0;32melse\u001b[0m \u001b[0;34m(\u001b[0m\u001b[0;34m'after %s'\u001b[0m \u001b[0;34m%\u001b[0m \u001b[0mdate\u001b[0m\u001b[0;34m)\u001b[0m\u001b[0;34m,\u001b[0m\u001b[0;34m\u001b[0m\u001b[0;34m\u001b[0m\u001b[0m\n\u001b[1;32m    506\u001b[0m                 instructions)\n\u001b[0;32m--> 507\u001b[0;31m       \u001b[0;32mreturn\u001b[0m \u001b[0mfunc\u001b[0m\u001b[0;34m(\u001b[0m\u001b[0;34m*\u001b[0m\u001b[0margs\u001b[0m\u001b[0;34m,\u001b[0m \u001b[0;34m**\u001b[0m\u001b[0mkwargs\u001b[0m\u001b[0;34m)\u001b[0m\u001b[0;34m\u001b[0m\u001b[0;34m\u001b[0m\u001b[0m\n\u001b[0m\u001b[1;32m    508\u001b[0m \u001b[0;34m\u001b[0m\u001b[0m\n\u001b[1;32m    509\u001b[0m     doc = _add_deprecated_arg_notice_to_docstring(\n",
      "\u001b[0;32m~/miniconda3/envs/defpyn/lib/python3.8/site-packages/tensorflow/python/ops/map_fn.py\u001b[0m in \u001b[0;36mmap_fn\u001b[0;34m(fn, elems, dtype, parallel_iterations, back_prop, swap_memory, infer_shape, name, fn_output_signature)\u001b[0m\n\u001b[1;32m    491\u001b[0m       \u001b[0;32mreturn\u001b[0m \u001b[0;34m(\u001b[0m\u001b[0mi\u001b[0m \u001b[0;34m+\u001b[0m \u001b[0;36m1\u001b[0m\u001b[0;34m,\u001b[0m \u001b[0mtas\u001b[0m\u001b[0;34m)\u001b[0m\u001b[0;34m\u001b[0m\u001b[0;34m\u001b[0m\u001b[0m\n\u001b[1;32m    492\u001b[0m \u001b[0;34m\u001b[0m\u001b[0m\n\u001b[0;32m--> 493\u001b[0;31m     _, r_a = control_flow_ops.while_loop(\n\u001b[0m\u001b[1;32m    494\u001b[0m         \u001b[0;32mlambda\u001b[0m \u001b[0mi\u001b[0m\u001b[0;34m,\u001b[0m \u001b[0m_\u001b[0m\u001b[0;34m:\u001b[0m \u001b[0mi\u001b[0m \u001b[0;34m<\u001b[0m \u001b[0mn\u001b[0m\u001b[0;34m,\u001b[0m\u001b[0;34m\u001b[0m\u001b[0;34m\u001b[0m\u001b[0m\n\u001b[1;32m    495\u001b[0m         \u001b[0mcompute\u001b[0m\u001b[0;34m,\u001b[0m \u001b[0;34m(\u001b[0m\u001b[0mi\u001b[0m\u001b[0;34m,\u001b[0m \u001b[0mresult_batchable_ta\u001b[0m\u001b[0;34m)\u001b[0m\u001b[0;34m,\u001b[0m\u001b[0;34m\u001b[0m\u001b[0;34m\u001b[0m\u001b[0m\n",
      "\u001b[0;32m~/miniconda3/envs/defpyn/lib/python3.8/site-packages/tensorflow/python/ops/control_flow_ops.py\u001b[0m in \u001b[0;36mwhile_loop\u001b[0;34m(cond, body, loop_vars, shape_invariants, parallel_iterations, back_prop, swap_memory, name, maximum_iterations, return_same_structure)\u001b[0m\n\u001b[1;32m   2733\u001b[0m                                               list(loop_vars))\n\u001b[1;32m   2734\u001b[0m       \u001b[0;32mwhile\u001b[0m \u001b[0mcond\u001b[0m\u001b[0;34m(\u001b[0m\u001b[0;34m*\u001b[0m\u001b[0mloop_vars\u001b[0m\u001b[0;34m)\u001b[0m\u001b[0;34m:\u001b[0m\u001b[0;34m\u001b[0m\u001b[0;34m\u001b[0m\u001b[0m\n\u001b[0;32m-> 2735\u001b[0;31m         \u001b[0mloop_vars\u001b[0m \u001b[0;34m=\u001b[0m \u001b[0mbody\u001b[0m\u001b[0;34m(\u001b[0m\u001b[0;34m*\u001b[0m\u001b[0mloop_vars\u001b[0m\u001b[0;34m)\u001b[0m\u001b[0;34m\u001b[0m\u001b[0;34m\u001b[0m\u001b[0m\n\u001b[0m\u001b[1;32m   2736\u001b[0m         \u001b[0;32mif\u001b[0m \u001b[0mtry_to_pack\u001b[0m \u001b[0;32mand\u001b[0m \u001b[0;32mnot\u001b[0m \u001b[0misinstance\u001b[0m\u001b[0;34m(\u001b[0m\u001b[0mloop_vars\u001b[0m\u001b[0;34m,\u001b[0m \u001b[0;34m(\u001b[0m\u001b[0mlist\u001b[0m\u001b[0;34m,\u001b[0m \u001b[0m_basetuple\u001b[0m\u001b[0;34m)\u001b[0m\u001b[0;34m)\u001b[0m\u001b[0;34m:\u001b[0m\u001b[0;34m\u001b[0m\u001b[0;34m\u001b[0m\u001b[0m\n\u001b[1;32m   2737\u001b[0m           \u001b[0mpacked\u001b[0m \u001b[0;34m=\u001b[0m \u001b[0;32mTrue\u001b[0m\u001b[0;34m\u001b[0m\u001b[0;34m\u001b[0m\u001b[0m\n",
      "\u001b[0;32m~/miniconda3/envs/defpyn/lib/python3.8/site-packages/tensorflow/python/ops/control_flow_ops.py\u001b[0m in \u001b[0;36m<lambda>\u001b[0;34m(i, lv)\u001b[0m\n\u001b[1;32m   2724\u001b[0m         cond = lambda i, lv: (  # pylint: disable=g-long-lambda\n\u001b[1;32m   2725\u001b[0m             math_ops.logical_and(i < maximum_iterations, orig_cond(*lv)))\n\u001b[0;32m-> 2726\u001b[0;31m         \u001b[0mbody\u001b[0m \u001b[0;34m=\u001b[0m \u001b[0;32mlambda\u001b[0m \u001b[0mi\u001b[0m\u001b[0;34m,\u001b[0m \u001b[0mlv\u001b[0m\u001b[0;34m:\u001b[0m \u001b[0;34m(\u001b[0m\u001b[0mi\u001b[0m \u001b[0;34m+\u001b[0m \u001b[0;36m1\u001b[0m\u001b[0;34m,\u001b[0m \u001b[0morig_body\u001b[0m\u001b[0;34m(\u001b[0m\u001b[0;34m*\u001b[0m\u001b[0mlv\u001b[0m\u001b[0;34m)\u001b[0m\u001b[0;34m)\u001b[0m\u001b[0;34m\u001b[0m\u001b[0;34m\u001b[0m\u001b[0m\n\u001b[0m\u001b[1;32m   2727\u001b[0m       \u001b[0mtry_to_pack\u001b[0m \u001b[0;34m=\u001b[0m \u001b[0;32mFalse\u001b[0m\u001b[0;34m\u001b[0m\u001b[0;34m\u001b[0m\u001b[0m\n\u001b[1;32m   2728\u001b[0m \u001b[0;34m\u001b[0m\u001b[0m\n",
      "\u001b[0;32m~/miniconda3/envs/defpyn/lib/python3.8/site-packages/tensorflow/python/ops/map_fn.py\u001b[0m in \u001b[0;36mcompute\u001b[0;34m(i, tas)\u001b[0m\n\u001b[1;32m    482\u001b[0m       \u001b[0mautographed_fn\u001b[0m \u001b[0;34m=\u001b[0m \u001b[0mautograph\u001b[0m\u001b[0;34m.\u001b[0m\u001b[0mtf_convert\u001b[0m\u001b[0;34m(\u001b[0m\u001b[0mfn\u001b[0m\u001b[0;34m,\u001b[0m \u001b[0mag_ctx\u001b[0m\u001b[0;34m)\u001b[0m\u001b[0;34m\u001b[0m\u001b[0;34m\u001b[0m\u001b[0m\n\u001b[1;32m    483\u001b[0m       \u001b[0mresult_value\u001b[0m \u001b[0;34m=\u001b[0m \u001b[0mautographed_fn\u001b[0m\u001b[0;34m(\u001b[0m\u001b[0melems_value\u001b[0m\u001b[0;34m)\u001b[0m\u001b[0;34m\u001b[0m\u001b[0;34m\u001b[0m\u001b[0m\n\u001b[0;32m--> 484\u001b[0;31m       \u001b[0mnest\u001b[0m\u001b[0;34m.\u001b[0m\u001b[0massert_same_structure\u001b[0m\u001b[0;34m(\u001b[0m\u001b[0mfn_output_signature\u001b[0m \u001b[0;32mor\u001b[0m \u001b[0melems\u001b[0m\u001b[0;34m,\u001b[0m \u001b[0mresult_value\u001b[0m\u001b[0;34m)\u001b[0m\u001b[0;34m\u001b[0m\u001b[0;34m\u001b[0m\u001b[0m\n\u001b[0m\u001b[1;32m    485\u001b[0m       \u001b[0mresult_value_flat\u001b[0m \u001b[0;34m=\u001b[0m \u001b[0mnest\u001b[0m\u001b[0;34m.\u001b[0m\u001b[0mflatten\u001b[0m\u001b[0;34m(\u001b[0m\u001b[0mresult_value\u001b[0m\u001b[0;34m)\u001b[0m\u001b[0;34m\u001b[0m\u001b[0;34m\u001b[0m\u001b[0m\n\u001b[1;32m    486\u001b[0m       result_value_batchable = _result_value_flat_to_batchable(\n",
      "\u001b[0;32m~/miniconda3/envs/defpyn/lib/python3.8/site-packages/tensorflow/python/util/nest.py\u001b[0m in \u001b[0;36massert_same_structure\u001b[0;34m(nest1, nest2, check_types, expand_composites)\u001b[0m\n\u001b[1;32m    397\u001b[0m     \u001b[0mstr1\u001b[0m \u001b[0;34m=\u001b[0m \u001b[0mstr\u001b[0m\u001b[0;34m(\u001b[0m\u001b[0mmap_structure\u001b[0m\u001b[0;34m(\u001b[0m\u001b[0;32mlambda\u001b[0m \u001b[0m_\u001b[0m\u001b[0;34m:\u001b[0m \u001b[0m_DOT\u001b[0m\u001b[0;34m,\u001b[0m \u001b[0mnest1\u001b[0m\u001b[0;34m)\u001b[0m\u001b[0;34m)\u001b[0m\u001b[0;34m\u001b[0m\u001b[0;34m\u001b[0m\u001b[0m\n\u001b[1;32m    398\u001b[0m     \u001b[0mstr2\u001b[0m \u001b[0;34m=\u001b[0m \u001b[0mstr\u001b[0m\u001b[0;34m(\u001b[0m\u001b[0mmap_structure\u001b[0m\u001b[0;34m(\u001b[0m\u001b[0;32mlambda\u001b[0m \u001b[0m_\u001b[0m\u001b[0;34m:\u001b[0m \u001b[0m_DOT\u001b[0m\u001b[0;34m,\u001b[0m \u001b[0mnest2\u001b[0m\u001b[0;34m)\u001b[0m\u001b[0;34m)\u001b[0m\u001b[0;34m\u001b[0m\u001b[0;34m\u001b[0m\u001b[0m\n\u001b[0;32m--> 399\u001b[0;31m     raise type(e)(\"%s\\n\"\n\u001b[0m\u001b[1;32m    400\u001b[0m                   \u001b[0;34m\"Entire first structure:\\n%s\\n\"\u001b[0m\u001b[0;34m\u001b[0m\u001b[0;34m\u001b[0m\u001b[0m\n\u001b[1;32m    401\u001b[0m                   \u001b[0;34m\"Entire second structure:\\n%s\"\u001b[0m\u001b[0;34m\u001b[0m\u001b[0;34m\u001b[0m\u001b[0m\n",
      "\u001b[0;31mValueError\u001b[0m: The two structures don't have the same nested structure.\n\nFirst structure: type=list str=[<tf.Tensor: shape=(10, 2), dtype=float32, numpy=\narray([[ 1.8030394 ,  4.4507194 ],\n       [-2.905537  ,  3.159781  ],\n       [ 3.5907829 , -2.840897  ],\n       [ 0.35531363,  2.4773304 ],\n       [-3.7266479 ,  0.21732265],\n       [-1.2307622 ,  3.0592532 ],\n       [ 0.0428472 ,  4.7865276 ],\n       [ 4.311236  , -3.7869058 ],\n       [ 3.590968  , -2.2099767 ],\n       [-0.9574124 ,  1.0907409 ]], dtype=float32)>, <tf.Tensor: shape=(10, 2), dtype=float32, numpy=\narray([[-0.0909396, -2.755878 ],\n       [-1.5093414,  2.7498572],\n       [ 2.9719276, -2.3863926],\n       [ 0.956058 , -1.5771611],\n       [ 2.8938398, -0.7041886],\n       [ 1.9706565, -0.5830723],\n       [-0.536249 , -2.937032 ],\n       [ 2.2107625, -1.8536984],\n       [-3.243789 , -1.2357949],\n       [ 2.611218 , -0.662962 ]], dtype=float32)>]\n\nSecond structure: type=EagerTensor str=tf.Tensor([1.8030394 4.4507194], shape=(2,), dtype=float32)\n\nMore specifically: Substructure \"type=list str=[<tf.Tensor: shape=(10, 2), dtype=float32, numpy=\narray([[ 1.8030394 ,  4.4507194 ],\n       [-2.905537  ,  3.159781  ],\n       [ 3.5907829 , -2.840897  ],\n       [ 0.35531363,  2.4773304 ],\n       [-3.7266479 ,  0.21732265],\n       [-1.2307622 ,  3.0592532 ],\n       [ 0.0428472 ,  4.7865276 ],\n       [ 4.311236  , -3.7869058 ],\n       [ 3.590968  , -2.2099767 ],\n       [-0.9574124 ,  1.0907409 ]], dtype=float32)>, <tf.Tensor: shape=(10, 2), dtype=float32, numpy=\narray([[-0.0909396, -2.755878 ],\n       [-1.5093414,  2.7498572],\n       [ 2.9719276, -2.3863926],\n       [ 0.956058 , -1.5771611],\n       [ 2.8938398, -0.7041886],\n       [ 1.9706565, -0.5830723],\n       [-0.536249 , -2.937032 ],\n       [ 2.2107625, -1.8536984],\n       [-3.243789 , -1.2357949],\n       [ 2.611218 , -0.662962 ]], dtype=float32)>]\" is a sequence, while substructure \"type=EagerTensor str=tf.Tensor([1.8030394 4.4507194], shape=(2,), dtype=float32)\" is not\nEntire first structure:\n[., .]\nEntire second structure:\n."
     ]
    }
   ],
   "source": [
    "idx = np.random.randint(0, X_train.shape[0], 10)\n",
    "xinit, xx, yy = X0_train[idx].astype(float32), X_train[idx].astype(float32), Y_train[idx].astype(float32)\n",
    "\n",
    "tf.map_fn(lambda a: a[0], [tf.constant(xx), tf.constant(yy)])"
   ]
  },
  {
   "cell_type": "code",
   "execution_count": null,
   "metadata": {},
   "outputs": [],
   "source": []
  },
  {
   "cell_type": "code",
   "execution_count": null,
   "metadata": {},
   "outputs": [],
   "source": []
  }
 ],
 "metadata": {
  "kernelspec": {
   "display_name": "Python 3",
   "language": "python",
   "name": "python3"
  },
  "language_info": {
   "codemirror_mode": {
    "name": "ipython",
    "version": 3
   },
   "file_extension": ".py",
   "mimetype": "text/x-python",
   "name": "python",
   "nbconvert_exporter": "python",
   "pygments_lexer": "ipython3",
   "version": "3.8.5"
  }
 },
 "nbformat": 4,
 "nbformat_minor": 4
}
