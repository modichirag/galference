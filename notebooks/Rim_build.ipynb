{
 "cells": [
  {
   "cell_type": "code",
   "execution_count": 1,
   "metadata": {},
   "outputs": [
    {
     "name": "stdout",
     "output_type": "stream",
     "text": [
      "Populating the interactive namespace from numpy and matplotlib\n"
     ]
    }
   ],
   "source": [
    "%pylab inline\n",
    "\n",
    "%load_ext autoreload\n",
    "%autoreload 2"
   ]
  },
  {
   "cell_type": "code",
   "execution_count": 2,
   "metadata": {},
   "outputs": [],
   "source": [
    "import tensorflow as tf\n",
    "# import tensorflow_probability as tfp\n",
    "# import mesh_tensorflow as mtf\n",
    "\n",
    "# import flowpm\n",
    "# import flowpm.mesh_ops as mpm\n",
    "# import flowpm.mtfpm as mtfpm\n",
    "# import flowpm.mesh_utils as mesh_utils\n",
    "# from astropy.cosmology import Planck15\n",
    "# from flowpm.tfpm import PerturbationGrowth\n",
    "# from flowpm import linear_field, lpt_init, nbody, cic_paint\n",
    "# from flowpm.utils import r2c3d, c2r3d\n",
    "\n",
    "sys.path.append('../utils/')\n",
    "# import tools\n",
    "# import diagnostics as dg\n",
    "\n",
    "import contextlib\n",
    "import functools\n",
    "import math, time\n",
    "from scipy.interpolate import InterpolatedUnivariateSpline as iuspline\n",
    "import scipy.optimize as sopt\n"
   ]
  },
  {
   "cell_type": "code",
   "execution_count": 23,
   "metadata": {},
   "outputs": [],
   "source": [
    "from recurrent_inference import rim, ConvRIM3D\n",
    "from convolutional_recurrent import ConvLSTM3DCell\n",
    "from tensorflow.python.keras.layers import ConvLSTM2D\n",
    "from tensorflow.python.keras.layers.convolutional_recurrent import ConvLSTM2DCell\n",
    "from tensorflow.python.keras.layers import LSTMCell, LSTM, Dense\n",
    "\n"
   ]
  },
  {
   "cell_type": "code",
   "execution_count": 4,
   "metadata": {},
   "outputs": [
    {
     "name": "stdout",
     "output_type": "stream",
     "text": [
      "3\n"
     ]
    },
    {
     "data": {
      "text/plain": [
       "(TensorShape([11, 5, 8, 8, 7]),\n",
       " TensorShape([11, 8, 8, 7]),\n",
       " TensorShape([11, 8, 8, 7]))"
      ]
     },
     "execution_count": 4,
     "metadata": {},
     "output_type": "execute_result"
    }
   ],
   "source": [
    "bb = 11\n",
    "nc = 8 \n",
    "cc = 2\n",
    "tt = 5\n",
    "filters = 7\n",
    "\n",
    "\n",
    "inp = np.random.normal(size=bb*tt*nc**2*cc).reshape(bb, tt, nc, nc, cc).astype(float32)\n",
    "states = np.zeros(shape = (2, bb, nc, nc, filters)).astype(float32)\n",
    "\n",
    "layer2d = ConvLSTM2D(filters=filters, kernel_size = 3, padding='SAME', return_state=True, return_sequences=True)\n",
    "out = layer2d(inp)\n",
    "print(len(out))\n",
    "out[0].shape, out[1].shape, out[2].shape"
   ]
  },
  {
   "cell_type": "code",
   "execution_count": 5,
   "metadata": {},
   "outputs": [
    {
     "name": "stdout",
     "output_type": "stream",
     "text": [
      "(3, 3, 2, 28)\n",
      "(3, 3, 7, 28)\n",
      "(28,)\n"
     ]
    }
   ],
   "source": [
    "wts = layer2d.cell.get_weights()\n",
    "for i in wts:\n",
    "    print(i.shape)"
   ]
  },
  {
   "cell_type": "code",
   "execution_count": 6,
   "metadata": {},
   "outputs": [
    {
     "data": {
      "text/plain": [
       "(11, 8, 8, 2)"
      ]
     },
     "execution_count": 6,
     "metadata": {},
     "output_type": "execute_result"
    }
   ],
   "source": [
    "inp[:, 0].shape"
   ]
  },
  {
   "cell_type": "code",
   "execution_count": 7,
   "metadata": {},
   "outputs": [
    {
     "data": {
      "text/plain": [
       "(TensorShape([11, 8, 8, 7]),\n",
       " 2,\n",
       " TensorShape([11, 8, 8, 7]),\n",
       " TensorShape([11, 8, 8, 7]))"
      ]
     },
     "execution_count": 7,
     "metadata": {},
     "output_type": "execute_result"
    }
   ],
   "source": [
    "cell2d = ConvLSTM2DCell(filters=filters, kernel_size = 3, padding='SAME')\n",
    "out = cell2d(inp[:, 0],  states)\n",
    "# out = cell2d(inp,  [states]*tt)\n",
    "out[0].shape, len(out[1]), out[1][0].shape, out[1][1].shape"
   ]
  },
  {
   "cell_type": "code",
   "execution_count": 8,
   "metadata": {},
   "outputs": [],
   "source": [
    "inp3d = np.random.normal(size=bb*tt*nc**3*cc).reshape(bb, tt, nc, nc, nc, cc).astype(float32)\n",
    "states3d = np.zeros(shape = (2, bb, nc, nc, nc, filters)).astype(float32)\n",
    "cell3d = ConvLSTM3DCell(filters=filters, kernel_size = 3, padding='SAME')\n",
    "cell3d(inp3d[:, 0], states3d);"
   ]
  },
  {
   "cell_type": "markdown",
   "metadata": {},
   "source": [
    "# rim"
   ]
  },
  {
   "cell_type": "code",
   "execution_count": 9,
   "metadata": {},
   "outputs": [],
   "source": [
    "bb = 11\n",
    "nc = 8 \n",
    "cc = 1\n",
    "tt = 5\n",
    "filters = 5\n",
    "\n",
    "inp3d = np.random.normal(size=bb*tt*nc**3*cc).reshape(bb, tt, nc, nc, nc, cc).astype(float32)\n",
    "states3d = np.zeros(shape = (2, bb, nc, nc, nc, filters)).astype(float32)\n",
    "cell3d = ConvLSTM3DCell(filters=filters, kernel_size = 3, padding='SAME')\n",
    "cell3d(inp3d[:, 0], states3d);\n"
   ]
  },
  {
   "cell_type": "code",
   "execution_count": 10,
   "metadata": {},
   "outputs": [],
   "source": [
    "\n",
    "inprim = np.random.normal(size=bb*1*nc**3*cc).reshape(bb, nc, nc, nc, cc).astype(float32)\n",
    "statesrim = np.zeros(shape = (2, bb,  nc, nc, nc, filters)).astype(float32)\n",
    "output_layer = tf.keras.layers.Conv3D(filters=1, kernel_size=3, padding='SAME')\n",
    "\n",
    "\n",
    "# rim(cell3d.call, tf.constant(inprim), tf.constant(statesrim), 1)\n",
    "cvrim = ConvRIM3D(cell3d, output_layer, None, 1)"
   ]
  },
  {
   "cell_type": "code",
   "execution_count": 11,
   "metadata": {},
   "outputs": [],
   "source": [
    "# cvrim.get_initial_state(inprim);"
   ]
  },
  {
   "cell_type": "code",
   "execution_count": 12,
   "metadata": {},
   "outputs": [],
   "source": [
    "\n",
    "# def model(x):\n",
    "#     return tf.reduce_sum(tf.square(x-tf.constant(2, dtype=tf.float32)))\n",
    "\n",
    "# @tf.function\n",
    "# def val_and_grad(x):\n",
    "#     with tf.GradientTape() as tape:\n",
    "#         tape.watch(x)\n",
    "#         loss = model(x)\n",
    "#     grad = tape.gradient(loss, x)\n",
    "#     return loss, grad\n",
    "\n",
    "# def func(x):\n",
    "#     return [vv.numpy().astype(np.float64)  for vv in val_and_grad(tf.constant(x, dtype=tf.float32))]\n",
    "\n",
    "# resdd= sopt.minimize(fun=func, x0=np.ones(5),\n",
    "#                                       jac=True, method='L-BFGS-B')\n",
    "\n",
    "# print(\"info:\\n\",resdd)"
   ]
  },
  {
   "cell_type": "markdown",
   "metadata": {},
   "source": [
    "# PM"
   ]
  },
  {
   "cell_type": "code",
   "execution_count": 13,
   "metadata": {},
   "outputs": [
    {
     "ename": "NameError",
     "evalue": "name 'tools' is not defined",
     "output_type": "error",
     "traceback": [
      "\u001b[0;31m---------------------------------------------------------------------------\u001b[0m",
      "\u001b[0;31mNameError\u001b[0m                                 Traceback (most recent call last)",
      "\u001b[0;32m<ipython-input-13-0d1dad7ca900>\u001b[0m in \u001b[0;36m<module>\u001b[0;34m\u001b[0m\n\u001b[1;32m      8\u001b[0m \u001b[0mipklin\u001b[0m \u001b[0;34m=\u001b[0m \u001b[0miuspline\u001b[0m\u001b[0;34m(\u001b[0m\u001b[0mklin\u001b[0m\u001b[0;34m,\u001b[0m \u001b[0mplin\u001b[0m\u001b[0;34m)\u001b[0m\u001b[0;34m\u001b[0m\u001b[0;34m\u001b[0m\u001b[0m\n\u001b[1;32m      9\u001b[0m \u001b[0;31m# Compute necessary Fourier kernels\u001b[0m\u001b[0;34m\u001b[0m\u001b[0;34m\u001b[0m\u001b[0;34m\u001b[0m\u001b[0m\n\u001b[0;32m---> 10\u001b[0;31m \u001b[0mkvec\u001b[0m \u001b[0;34m=\u001b[0m \u001b[0mtools\u001b[0m\u001b[0;34m.\u001b[0m\u001b[0mfftk\u001b[0m\u001b[0;34m(\u001b[0m\u001b[0;34m(\u001b[0m\u001b[0mnc\u001b[0m\u001b[0;34m,\u001b[0m \u001b[0mnc\u001b[0m\u001b[0;34m,\u001b[0m \u001b[0mnc\u001b[0m\u001b[0;34m)\u001b[0m\u001b[0;34m,\u001b[0m \u001b[0mboxsize\u001b[0m\u001b[0;34m=\u001b[0m\u001b[0mnc\u001b[0m\u001b[0;34m,\u001b[0m \u001b[0msymmetric\u001b[0m\u001b[0;34m=\u001b[0m\u001b[0;32mFalse\u001b[0m\u001b[0;34m)\u001b[0m\u001b[0;34m\u001b[0m\u001b[0;34m\u001b[0m\u001b[0m\n\u001b[0m\u001b[1;32m     11\u001b[0m \u001b[0mkmesh\u001b[0m \u001b[0;34m=\u001b[0m \u001b[0;34m(\u001b[0m\u001b[0msum\u001b[0m\u001b[0;34m(\u001b[0m\u001b[0mk\u001b[0m\u001b[0;34m**\u001b[0m\u001b[0;36m2\u001b[0m \u001b[0;32mfor\u001b[0m \u001b[0mk\u001b[0m \u001b[0;32min\u001b[0m \u001b[0mkvec\u001b[0m\u001b[0;34m)\u001b[0m\u001b[0;34m**\u001b[0m\u001b[0;36m0.5\u001b[0m\u001b[0;34m)\u001b[0m\u001b[0;34m.\u001b[0m\u001b[0mastype\u001b[0m\u001b[0;34m(\u001b[0m\u001b[0mnp\u001b[0m\u001b[0;34m.\u001b[0m\u001b[0mfloat32\u001b[0m\u001b[0;34m)\u001b[0m\u001b[0;34m\u001b[0m\u001b[0;34m\u001b[0m\u001b[0m\n\u001b[1;32m     12\u001b[0m \u001b[0mpriorwt\u001b[0m \u001b[0;34m=\u001b[0m \u001b[0mipklin\u001b[0m\u001b[0;34m(\u001b[0m\u001b[0mkmesh\u001b[0m\u001b[0;34m)\u001b[0m\u001b[0;34m\u001b[0m\u001b[0;34m\u001b[0m\u001b[0m\n",
      "\u001b[0;31mNameError\u001b[0m: name 'tools' is not defined"
     ]
    }
   ],
   "source": [
    "bs, nc = 100, 16\n",
    "nsteps = 3\n",
    "a0, a, nsteps = 0.1, 1.0,  nsteps\n",
    "stages = np.linspace(a0, a, nsteps, endpoint=True)\n",
    "\n",
    "klin = np.loadtxt('../data/Planck15_a1p00.txt').T[0]\n",
    "plin = np.loadtxt('../data//Planck15_a1p00.txt').T[1]\n",
    "ipklin = iuspline(klin, plin)\n",
    "# Compute necessary Fourier kernels                                                                                                                           \n",
    "kvec = tools.fftk((nc, nc, nc), boxsize=nc, symmetric=False)\n",
    "kmesh = (sum(k**2 for k in kvec)**0.5).astype(np.float32)\n",
    "priorwt = ipklin(kmesh)\n"
   ]
  },
  {
   "cell_type": "code",
   "execution_count": null,
   "metadata": {},
   "outputs": [],
   "source": [
    "dpath = '../data/rim-data/L%04d_N%03d_T%02d/'%(bs, nc, nsteps)\n",
    "\n",
    "alldata = np.array([np.load(dpath + '%04d.npy'%i) for i in range(100)]).astype(float32)\n"
   ]
  },
  {
   "cell_type": "markdown",
   "metadata": {},
   "source": [
    "#Simple recon with ADAM"
   ]
  },
  {
   "cell_type": "code",
   "execution_count": 13,
   "metadata": {},
   "outputs": [
    {
     "data": {
      "image/png": "[encoded data removed]",
      "text/plain": [
       "<Figure size 504x216 with 2 Axes>"
      ]
     },
     "metadata": {
      "needs_background": "light"
     },
     "output_type": "display_data"
    }
   ],
   "source": [
    "ic, fin = alldata[0]\n",
    "fig, ax = plt.subplots(1, 2, figsize=(7, 3))\n",
    "ax[0].imshow(ic.sum(axis=0))\n",
    "ax[1].imshow(fin.sum(axis=0))\n",
    "ic, fin = np.expand_dims(ic, 0), np.expand_dims(fin, 0)\n"
   ]
  },
  {
   "cell_type": "code",
   "execution_count": 14,
   "metadata": {},
   "outputs": [],
   "source": [
    "tf.keras.backend.clear_session()\n"
   ]
  },
  {
   "cell_type": "code",
   "execution_count": 15,
   "metadata": {},
   "outputs": [],
   "source": [
    "@tf.function\n",
    "def pm(linear):\n",
    "    state = lpt_init(linear, a0=0.1, order=1)\n",
    "    final_state = nbody(state,  stages, nc)\n",
    "    tfinal_field = cic_paint(tf.zeros_like(linear), final_state[0])\n",
    "    return tfinal_field\n",
    "\n",
    "\n",
    "@tf.function\n",
    "def recon_prototype(linear, data, Rsm, anneal=True):\n",
    "    \"\"\"                                                                                                                                                   \n",
    "    \"\"\"\n",
    "    print(linear)\n",
    "#     linear = tf.reshape(linear, data.shape)\n",
    "    final_field = pm(linear)\n",
    "\n",
    "    residual = final_field - data #.astype(np.float32)\n",
    "    base = residual\n",
    "\n",
    "    if anneal :\n",
    "        print(\"\\nAdd annealing section to graph\\n\")\n",
    "        Rsmsq = tf.multiply(Rsm*bs/nc, Rsm*bs/nc)\n",
    "        smwts = tf.exp(tf.multiply(-kmesh**2, Rsmsq))\n",
    "        basek = r2c3d(base, norm=nc**3)\n",
    "        basek = tf.multiply(basek, tf.cast(smwts, tf.complex64))\n",
    "        base = c2r3d(basek, norm=nc**3)\n",
    "\n",
    "    chisq = tf.multiply(base, base)\n",
    "    chisq = tf.reduce_sum(chisq)\n",
    "    chisq = tf.multiply(chisq, 1/nc**3, name='chisq')\n",
    "\n",
    "    #Prior                                                                                                                                                \n",
    "    lineark = r2c3d(linear, norm=nc**3)\n",
    "    priormesh = tf.square(tf.cast(tf.abs(lineark), tf.float32))\n",
    "    prior = tf.reduce_sum(tf.multiply(priormesh, 1/priorwt))\n",
    "    prior = tf.multiply(prior, 1/nc**3, name='prior')\n",
    "    #                                                                                                                                                     \n",
    "    loss = chisq + prior\n",
    "\n",
    "    return loss\n",
    "\n",
    "\n",
    "@tf.function\n",
    "def val_and_grad(x, y, Rsm):\n",
    "    print(\"val and grad : \", x.shape)\n",
    "    with tf.GradientTape() as tape:\n",
    "        tape.watch(x)\n",
    "        loss = recon_prototype(x, y, Rsm)\n",
    "    grad = tape.gradient(loss, x)\n",
    "    return loss, grad\n",
    "\n",
    "@tf.function\n",
    "def grad(x, y, Rsm):\n",
    "    with tf.GradientTape() as tape:\n",
    "        tape.watch(x)\n",
    "        loss = recon_prototype(x, y, Rsm)\n",
    "    grad = tape.gradient(loss, [x])\n",
    "    return grad\n",
    "\n",
    "\n",
    "# Create an optimizer for Adam.                                                                                                                           \n",
    "opt = tf.keras.optimizers.Adam(learning_rate=0.1)\n",
    "\n"
   ]
  },
  {
   "cell_type": "code",
   "execution_count": 16,
   "metadata": {},
   "outputs": [],
   "source": [
    "# recon_prototype(linear, tf.constant(fin), tf.constant(0., dtype=tf.float32))\n"
   ]
  },
  {
   "cell_type": "code",
   "execution_count": 17,
   "metadata": {},
   "outputs": [
    {
     "name": "stdout",
     "output_type": "stream",
     "text": [
      "<tf.Variable 'linmesh:0' shape=(1, 16, 16, 16) dtype=float32>\n",
      "\n",
      "Add annealing section to graph\n",
      "\n"
     ]
    }
   ],
   "source": [
    "RRs = [0]\n",
    "optimizer = 'adam'\n",
    "niter = 100\n",
    "\n",
    "\n",
    "#Loop it Reconstruction                                                                                                                                   \n",
    "##Reconstruction                                                                                                                                          \n",
    "x0 = np.random.normal(0, 1, nc**3).reshape(fin.shape).astype(np.float32)\n",
    "linear = tf.Variable(name='linmesh', shape=(1, nc, nc, nc), dtype=tf.float32,\n",
    "                         initial_value=x0, trainable=True)\n",
    "\n",
    "for iR, RR in enumerate(RRs):\n",
    "\n",
    "    for i in range(niter):\n",
    "        grads = grad(linear, tf.constant(fin, dtype=tf.float32), tf.constant(RR, dtype=tf.float32))\n",
    "#         recon_prototype(linear, tf.constant(fin), tf.constant(0., dtype=tf.float32))\n",
    "        opt.apply_gradients(zip(grads, [linear]))\n",
    "    minic = linear.numpy().reshape(fin.shape)\n",
    "    \n",
    "    x0 = minic\n",
    "    \n",
    "#     #                                                                                                                                                     \n",
    "#     print('\\nminimized\\n')\n",
    "#     minfin = pm(tf.constant(minic, dtype=tf.float32)).numpy()\n",
    "#     dg.saveimfig(\"-R%d\"%RR, [minic, minfin], [ic, fin], fpath+'')\n",
    "#     dg.save2ptfig(\"-R%d\"%RR, [minic, minfin], [ic, fin], fpath+'', bs)\n",
    "#     ###                                                                                                                                                   \n",
    "#     x0 = minic\n",
    "# exit(0)\n",
    "\n",
    "\n"
   ]
  },
  {
   "cell_type": "code",
   "execution_count": 18,
   "metadata": {},
   "outputs": [
    {
     "data": {
      "text/plain": [
       "<matplotlib.colorbar.Colorbar at 0x7f45385e0190>"
      ]
     },
     "execution_count": 18,
     "metadata": {},
     "output_type": "execute_result"
    },
    {
     "data": {
      "image/png": "[encoded data removed]",
      "text/plain": [
       "<Figure size 504x216 with 4 Axes>"
      ]
     },
     "metadata": {
      "needs_background": "light"
     },
     "output_type": "display_data"
    }
   ],
   "source": [
    "fig, ax = plt.subplots(1, 2, figsize=(7, 3))\n",
    "im = ax[0].imshow(ic[0].sum(axis=0))\n",
    "plt.colorbar(im, ax=ax[0])\n",
    "im = ax[1].imshow(minic[0].sum(axis=0))\n",
    "plt.colorbar(im, ax=ax[1])"
   ]
  },
  {
   "cell_type": "markdown",
   "metadata": {},
   "source": [
    "#  RIM\n"
   ]
  },
  {
   "cell_type": "code",
   "execution_count": 14,
   "metadata": {},
   "outputs": [],
   "source": [
    "# from recurrent_inference import ConvRIM3D\n",
    "# from convolutional_recurrent import ConvLSTM3DCell\n",
    "\n",
    "\n",
    "# @tf.function\n",
    "# def likelihood_fn(inputs, predictions):\n",
    "#   \"\"\" Evaluates the data likelihood function through Fast PM\n",
    "#   \"\"\"\n",
    "#   final_field = pm(predictions[..., 0])\n",
    "#   likelihood = tf.reduce_mean((final_field - inputs[...,0])**2/sigma**2, \n",
    "#                               axis=[1, 2, 3])\n",
    "#   return likelihood\n",
    "\n",
    "# @tf.function\n",
    "# def gradient_fn(inputs, predictions):\n",
    "#     \"\"\" Evaluates the data likelihood function through Fast PM\n",
    "#     \"\"\"\n",
    "#     with tf.GradientTape() as tape:\n",
    "#         tape.watch(x)\n",
    "#         loss = likelihood_fn(x, y, Rsm)\n",
    "#     grad = tape.gradient(loss, [x])\n",
    "#     return grad\n",
    "  "
   ]
  },
  {
   "cell_type": "code",
   "execution_count": 15,
   "metadata": {},
   "outputs": [],
   "source": []
  },
  {
   "cell_type": "code",
   "execution_count": 16,
   "metadata": {},
   "outputs": [],
   "source": [
    "nb_samples = 100\n",
    "batch_size = 16\n",
    "time_max_rim = 30\n",
    "time_max_gd = 60\n",
    "nb_epochs = 2\n",
    "\n",
    "size_train = 1000\n",
    "size_test = 500"
   ]
  },
  {
   "cell_type": "code",
   "execution_count": 17,
   "metadata": {},
   "outputs": [],
   "source": [
    "def simulate(x, A, sigma):\n",
    "    return np.dot(A,x) + np.random.normal(0,sigma, (2,))\n",
    "\n",
    "def generate_A():\n",
    "    D = np.diag(np.random.choice([-1,1], (2,)) * np.random.uniform(0.25, 1, (2,)))\n",
    "    theta = np.random.uniform(0,2*np.pi)\n",
    "    P = np.array([[np.cos(theta), -np.sin(theta)], [np.sin(theta), np.cos(theta)]])\n",
    "    return np.linalg.inv(P).dot(D).dot(P)\n",
    "\n",
    "def loss(x, y, A):\n",
    "    return 0.5 * x.T.dot(A.T).dot(A).dot(x) -  y.T.dot(A).dot(x)\n",
    "\n",
    "def gradient(x, y, A):\n",
    "    return A.T.dot(A.dot(x) - y)"
   ]
  },
  {
   "cell_type": "code",
   "execution_count": 18,
   "metadata": {},
   "outputs": [],
   "source": [
    "A_train = np.array([generate_A() for i in range(size_train)]).astype(float32)\n",
    "sigma_train = np.array([np.abs(np.random.uniform(0, 0.1)) for i in range(size_train)]).astype(float32)\n",
    "\n",
    "X_train = np.array([np.random.uniform(-5, 5, (2,)) for i in range(size_train)]).astype(float32)\n",
    "Y_train = np.array([simulate(x, A, sigma) for (x, A, sigma) in zip(X_train, A_train, sigma_train)]).astype(float32)\n",
    "X_min_train = np.array([np.linalg.inv(A).dot(y) for (A,y) in zip(A_train,Y_train)]).astype(float32)\n",
    "X0_train = np.array([x_min + np.random.uniform(-10,10,(2,)) for x_min in X_min_train]).astype(float32)"
   ]
  },
  {
   "cell_type": "code",
   "execution_count": 19,
   "metadata": {},
   "outputs": [],
   "source": [
    "A_test = np.array([generate_A() for i in range(size_test)]).astype(float32)\n",
    "sigma_test = np.array([np.abs(np.random.uniform(0, 1)) for i in range(size_test)]).astype(float32)\n",
    "\n",
    "X_test = np.array([np.random.uniform(-5, 5, (2,)) for i in range(size_test)]).astype(float32)\n",
    "Y_test = np.array([simulate(x, A, sigma) for (x, A, sigma) in zip(X_test, A_test, sigma_test)]).astype(float32)\n",
    "X_min_test = np.array([np.linalg.inv(A).dot(y) for (A,y) in zip(A_test,Y_test)]).astype(float32)\n",
    "X0_test = np.array([x_min + np.random.uniform(-10,10,(2,)) for x_min in X_min_test]).astype(float32)"
   ]
  },
  {
   "cell_type": "markdown",
   "metadata": {},
   "source": [
    "# GD"
   ]
  },
  {
   "cell_type": "code",
   "execution_count": 140,
   "metadata": {},
   "outputs": [],
   "source": [
    "lr = 0.1\n",
    "\n",
    "list_xt_gd = []\n",
    "for (x0, y, A) in zip(X0_test, Y_test, A_test):\n",
    "    xt = x0.copy()\n",
    "    list_xt = [x0]\n",
    "    for t in range(1, time_max_gd):\n",
    "        xt = xt - lr * gradient(xt, y, A)\n",
    "        list_xt.append(xt)\n",
    "    list_xt_gd.append(list_xt)\n",
    "list_xt_gd = np.array(list_xt_gd)"
   ]
  },
  {
   "cell_type": "code",
   "execution_count": 141,
   "metadata": {},
   "outputs": [],
   "source": [
    "\n",
    "extent_x, extent_y = 14, 6\n",
    "xx_grid = np.array([np.linspace(x_min[0]-extent_x, x_min[0]+extent_x, 50) for x_min in X_min_test])\n",
    "yy_grid = np.array([np.linspace(x_min[1]-extent_y, x_min[1]+extent_y, 50) for x_min in X_min_test])\n",
    "XY_grid = np.array([np.meshgrid(xx, yy) for (xx,yy) in zip(xx_grid, yy_grid)])\n",
    "X_grid = XY_grid[:,0,:,:]\n",
    "Y_grid = XY_grid[:,1,:,:]\n",
    "grid = np.concatenate([X_grid[:,:,:,np.newaxis], Y_grid[:,:,:,np.newaxis]], axis=3)\n",
    "Z_grid = np.array([np.apply_along_axis(lambda x: loss(x, y, A), 2, g) for (y,A,g) in zip(Y_test, A_test, grid)])\n",
    "colormap = np.array(plt.rcParams['axes.prop_cycle'].by_key()['color'])\n"
   ]
  },
  {
   "cell_type": "code",
   "execution_count": 142,
   "metadata": {},
   "outputs": [
    {
     "data": {
      "text/plain": [
       "<matplotlib.collections.PathCollection at 0x2aafcb005890>"
      ]
     },
     "execution_count": 142,
     "metadata": {},
     "output_type": "execute_result"
    },
    {
     "data": {
      "image/png": "[encoded data removed]",
      "text/plain": [
       "<Figure size 1440x504 with 2 Axes>"
      ]
     },
     "metadata": {
      "needs_background": "light"
     },
     "output_type": "display_data"
    }
   ],
   "source": [
    "i_example = 37\n",
    "\n",
    "plt.rcParams['figure.figsize'] = (20,7)\n",
    "plt.axis('equal')\n",
    "\n",
    "plt.contourf(X_grid[i_example], Y_grid[i_example], Z_grid[i_example], 20)\n",
    "plt.colorbar()\n",
    "plt.scatter(X_min_test[i_example][0], X_min_test[i_example][1], c=colormap[4])\n",
    "plt.scatter(X0_test[i_example][0], X0_test[i_example][1])\n",
    "\n",
    "plt.plot(list_xt_gd[i_example,:,0], list_xt_gd[i_example,:,1], color=colormap[1])\n",
    "plt.scatter(list_xt_gd[i_example,:,0], list_xt_gd[i_example,:,1], c=colormap[1])"
   ]
  },
  {
   "cell_type": "markdown",
   "metadata": {},
   "source": [
    "# Code RIM"
   ]
  },
  {
   "cell_type": "code",
   "execution_count": 151,
   "metadata": {},
   "outputs": [],
   "source": [
    "del rim"
   ]
  },
  {
   "cell_type": "code",
   "execution_count": 21,
   "metadata": {},
   "outputs": [],
   "source": [
    "from recurrent_inference import rim\n"
   ]
  },
  {
   "cell_type": "code",
   "execution_count": 24,
   "metadata": {},
   "outputs": [],
   "source": [
    "output_size = 4\n",
    "cell = LSTMCell(output_size)\n",
    "cell.build([None, 4])\n",
    "output_layer = Dense(2, input_shape=(None, output_size))"
   ]
  },
  {
   "cell_type": "code",
   "execution_count": 25,
   "metadata": {},
   "outputs": [],
   "source": [
    "bb = 10\n",
    "niter = 10\n",
    "\n",
    "xx, yy = X_train[:bb].astype(float32), Y_train[:bb].astype(float32)\n",
    "A = A_train[0]\n",
    "idx = np.random.randint(0, X_train.shape[0], 100)\n",
    "xx, yy = X_train[idx].astype(float32), Y_train[idx].astype(float32)\n",
    "A = A_train[0]\n",
    "\n",
    "# states = [np.zeros(shape=(1, 1, output_size)).astype(float32), \n",
    "#           np.zeros(shape=(1, 1, output_size)).astype(float32)]\n",
    "states = tf.constant(np.zeros(shape=(2, idx.size,  output_size)).astype(float32))\n",
    "states = [tf.Variable(states[0]), tf.Variable(states[1])]\n",
    "out = cell(tf.constant(tf.concat([xx, xx*2], axis=-1)), states)"
   ]
  },
  {
   "cell_type": "code",
   "execution_count": 28,
   "metadata": {},
   "outputs": [
    {
     "data": {
      "text/plain": [
       "<tf.Tensor: shape=(100, 2), dtype=float32, numpy=\n",
       "array([[-1.37498721e-01,  2.81694345e-02],\n",
       "       [-2.44384054e-02, -4.16564830e-02],\n",
       "       [ 4.04973887e-02, -1.88254043e-02],\n",
       "       [-3.85697410e-02, -2.62307048e-01],\n",
       "       [ 2.53128409e-02, -2.93517768e-01],\n",
       "       [-2.40296185e-01,  6.48814142e-02],\n",
       "       [-3.98097113e-02, -4.26629670e-02],\n",
       "       [-8.82571936e-02, -1.70007218e-02],\n",
       "       [-1.87881202e-01,  1.25448078e-01],\n",
       "       [-5.41197546e-02, -1.13439169e-02],\n",
       "       [-1.63380131e-01,  9.89981368e-02],\n",
       "       [-2.25258082e-01,  1.73349053e-01],\n",
       "       [ 5.92088215e-02, -1.91335857e-01],\n",
       "       [-3.12737942e-01,  7.48532861e-02],\n",
       "       [-1.66886821e-01,  5.17765544e-02],\n",
       "       [-9.73514915e-02,  1.58910844e-02],\n",
       "       [-2.38289550e-01,  4.61638123e-02],\n",
       "       [-2.15640082e-03, -2.85922587e-01],\n",
       "       [-2.67750889e-01,  1.07649691e-01],\n",
       "       [-2.55137861e-01,  2.34358281e-01],\n",
       "       [-1.53615683e-01,  9.02757794e-02],\n",
       "       [-9.44534913e-02,  5.62445074e-02],\n",
       "       [-1.89911842e-01, -8.51436257e-02],\n",
       "       [-3.35608780e-01,  7.85293877e-02],\n",
       "       [-2.16116205e-01,  6.59434646e-02],\n",
       "       [-3.01612198e-01,  1.85126178e-02],\n",
       "       [-3.01930662e-02, -2.31770709e-01],\n",
       "       [-2.21773908e-02, -9.52245388e-03],\n",
       "       [ 1.04615940e-02, -3.08896124e-01],\n",
       "       [-1.91906877e-02, -3.74439433e-02],\n",
       "       [-4.16171700e-01,  1.38853878e-01],\n",
       "       [-2.18507111e-01,  6.64500073e-02],\n",
       "       [-2.21511461e-02, -1.71194673e-02],\n",
       "       [-3.54238302e-01,  7.89676085e-02],\n",
       "       [-2.23989021e-02, -2.67998606e-01],\n",
       "       [-2.34066341e-02, -2.70603187e-02],\n",
       "       [ 1.35937601e-01, -4.43483405e-02],\n",
       "       [-1.70257062e-01, -1.19010843e-01],\n",
       "       [ 1.10478234e-02, -1.04785070e-01],\n",
       "       [-4.32738423e-01,  2.08493441e-01],\n",
       "       [-3.02778751e-01,  1.53357321e-02],\n",
       "       [-1.52367622e-01,  1.39760748e-02],\n",
       "       [-3.63626361e-01,  2.06371024e-01],\n",
       "       [-5.12310602e-02, -3.43448971e-03],\n",
       "       [ 2.70352140e-02, -2.03209966e-01],\n",
       "       [-1.75093710e-01,  1.57694995e-01],\n",
       "       [-7.22329691e-02,  4.33958694e-02],\n",
       "       [-3.45883578e-01,  1.36747882e-01],\n",
       "       [-2.59481996e-01,  3.05552240e-02],\n",
       "       [-2.51941502e-01,  3.51971723e-02],\n",
       "       [-2.76561737e-01,  1.30047157e-01],\n",
       "       [-2.92895664e-03, -2.26475015e-01],\n",
       "       [-1.43469974e-01, -1.12458169e-02],\n",
       "       [-1.71516731e-01,  9.78103653e-02],\n",
       "       [-1.73058379e-02, -2.80173600e-01],\n",
       "       [ 2.78170332e-02,  8.97853449e-03],\n",
       "       [-1.38389960e-01, -1.64091647e-01],\n",
       "       [-3.37483212e-02, -2.71667749e-01],\n",
       "       [-1.75006181e-01,  5.74099012e-02],\n",
       "       [-2.90100336e-01,  5.44178300e-02],\n",
       "       [-2.19409347e-01,  8.35941508e-02],\n",
       "       [-1.12222739e-01,  3.60192209e-02],\n",
       "       [-3.80071215e-02, -2.89290678e-02],\n",
       "       [-1.04880720e-01,  2.30715852e-02],\n",
       "       [-5.00995852e-02,  7.99174700e-03],\n",
       "       [-3.24124731e-02, -2.63053149e-01],\n",
       "       [-3.80071215e-02, -2.89290678e-02],\n",
       "       [-1.06916346e-01,  1.47681339e-02],\n",
       "       [-3.79883088e-02, -3.29879522e-02],\n",
       "       [-5.75632825e-02, -1.52118236e-01],\n",
       "       [ 2.53128409e-02, -2.93517768e-01],\n",
       "       [-1.30658761e-01, -1.38921931e-03],\n",
       "       [-4.30621468e-02, -4.63566072e-02],\n",
       "       [-3.02785069e-01,  5.62162958e-02],\n",
       "       [-2.71740258e-01,  1.20721340e-01],\n",
       "       [ 4.04973887e-02, -1.88254043e-02],\n",
       "       [-3.56483907e-01,  1.33486822e-01],\n",
       "       [-1.74673811e-01,  1.36647522e-01],\n",
       "       [-2.08021730e-01,  4.12902273e-02],\n",
       "       [-2.57565618e-01,  1.10862672e-01],\n",
       "       [-3.13575082e-02, -1.41206253e-02],\n",
       "       [-1.11960083e-01,  6.72794431e-02],\n",
       "       [-2.57071435e-01, -4.62701954e-02],\n",
       "       [-2.29385898e-01,  1.09553643e-01],\n",
       "       [-2.53964573e-01,  4.49289940e-02],\n",
       "       [-3.12482625e-01,  6.40877262e-02],\n",
       "       [-4.88730893e-02, -4.95764241e-02],\n",
       "       [-4.79406379e-02, -3.82811315e-02],\n",
       "       [-2.23989021e-02, -2.67998606e-01],\n",
       "       [-1.78623796e-01,  1.71440616e-01],\n",
       "       [-2.80095994e-01, -2.26844510e-04],\n",
       "       [-2.99981713e-01,  6.21558242e-02],\n",
       "       [ 1.35937601e-01, -4.43483405e-02],\n",
       "       [-4.87370253e-01,  1.43078700e-01],\n",
       "       [ 2.37227529e-02,  3.35438512e-02],\n",
       "       [-2.05906868e-01,  1.93748608e-01],\n",
       "       [ 3.32768857e-02, -2.79638708e-01],\n",
       "       [-2.21773908e-02, -9.52245388e-03],\n",
       "       [-2.32287273e-01,  6.80009127e-02],\n",
       "       [-9.64301601e-02, -4.00832817e-02]], dtype=float32)>"
      ]
     },
     "execution_count": 28,
     "metadata": {},
     "output_type": "execute_result"
    }
   ],
   "source": [
    "output_layer(out[0])"
   ]
  },
  {
   "cell_type": "code",
   "execution_count": 24,
   "metadata": {},
   "outputs": [],
   "source": [
    "# idx = np.random.randint(0, X_train.shape[0], 100)\n",
    "# xx, yy, AA = X_train[idx], Y_train[idx], A_train[idx]\n",
    "\n",
    "\n",
    "# def test(x, A):\n",
    "#     y = [x[i].dot(A[i]) for i in range(x.shape[0])]\n",
    "#     return np.array(y)\n",
    "\n",
    "# def test2(x, A):\n",
    "#     y = [tf.matmul(x[i], A[i]) for i in range(x.shape[0])]\n",
    "#     return y\n",
    "\n",
    "\n",
    "# a = test2(tf.constant(xx), tf.constant(AA)).numpy()\n",
    "# b = test(xx, AA)\n",
    "# b.shape"
   ]
  },
  {
   "cell_type": "code",
   "execution_count": 144,
   "metadata": {},
   "outputs": [],
   "source": [
    "# @tf.function\n",
    "# def tf_loss3(x, y, A):\n",
    "#     print('loss')\n",
    "#     l = x.shape[1]\n",
    "#     n = tf.constant(x.shape[0])\n",
    "#     i = 0\n",
    "#     term1 = tf.TensorArray(tf.float32, size=n)\n",
    "#     term2 = tf.TensorArray(tf.float32, size=n)\n",
    "#     x_t, y_t = tf.expand_dims(x, 1), tf.expand_dims(y, 1)\n",
    "#     while tf.less(i, n):\n",
    "#         term1 = term1.write(i, 0.5 * tf.matmul(x_t[i], tf.matmul(tf.transpose(A[i]), tf.matmul(A[i], tf.transpose(x_t[i]))))) \n",
    "#         term2 = term2.write(i,  - tf.matmul(y_t[i], tf.matmul(A[i], tf.transpose(x_t[i]))))\n",
    "#         i = i+1\n",
    "#     return tf.reduce_sum(term1.stack() + term2.stack())\n",
    "\n",
    "\n",
    "# @tf.function\n",
    "# def tf_loss2(x, y, A):\n",
    "#     print('loss')\n",
    "#     x_t, y_t = tf.expand_dims(x, 1), tf.expand_dims(y, 1)\n",
    "# #     term1 = tf.map_fn(lambda a: 0.5 * tf.matmul(a[0], tf.matmul(tf.transpose(a[1]), tf.matmul(a[1], tf.transpose(a[0])))),\n",
    "# #                       (x_t, A), dtype=tf.float32, parallel_iterations=20)\n",
    "# #     term2 = tf.map_fn(lambda a: - tf.matmul(a[1], tf.matmul(a[2], tf.transpose(a[0]))), \n",
    "# #                       (x_t, y_t, A), dtype=tf.float32, parallel_iterations=20)\n",
    "#     term1 = tf.vectorized_map(lambda a: 0.5 * tf.matmul(a[0], tf.matmul(tf.transpose(a[1]), tf.matmul(a[1], tf.transpose(a[0])))),\n",
    "#                       (x_t, A))\n",
    "#     term2 = tf.vectorized_map(lambda a: - tf.matmul(a[1], tf.matmul(a[2], tf.transpose(a[0]))), \n",
    "#                       (x_t, y_t, A))\n",
    "#     return tf.reduce_sum(term1 + term2)\n",
    "\n",
    "\n",
    "# @tf.function\n",
    "# def tf_loss(x, y, A):\n",
    "#     print('loss')\n",
    "#     n = tf.constant(x.shape[0])\n",
    "#     i = 0\n",
    "#     loss = 0.\n",
    "#     x_t, y_t = tf.expand_dims(x, 1), tf.expand_dims(y, 1)\n",
    "#     while tf.less(i, n):\n",
    "#         t1 =  tf.reduce_sum(0.5 * tf.matmul(x_t[i], tf.matmul(tf.transpose(A[i]), tf.matmul(A[i], tf.transpose(x_t[i])))))\n",
    "#         t2 =  - tf.reduce_sum(tf.matmul(y_t[i], tf.matmul(A[i], tf.transpose(x_t[i]))))\n",
    "#         loss = loss + t1 + t2\n",
    "#         i = i+1\n",
    "#     return loss\n",
    "\n",
    "# idx = np.random.randint(0, 1000, 32)\n",
    "# xinit, xx, yy = X0_train[idx].astype(float32), X_train[idx].astype(float32), Y_train[idx].astype(float32)\n",
    "# A =  A_train[idx].astype(float32)\n",
    "# a = tf_loss(tf.constant(xx), tf.constant(yy),tf.constant(A))\n",
    "# b = tf_loss2(tf.constant(xx), tf.constant(yy),tf.constant(A))\n",
    "# c = tf_loss3(tf.constant(xx), tf.constant(yy),tf.constant(A))\n",
    "# a, b, c\n",
    "\n",
    "## %timeit tf_loss(tf.constant(xx), tf.constant(yy),tf.constant(A))\n",
    "## %timeit tf_loss2(tf.constant(xx), tf.constant(yy),tf.constant(A))\n",
    "## %timeit tf_loss3(tf.constant(xx), tf.constant(yy),tf.constant(A))"
   ]
  },
  {
   "cell_type": "code",
   "execution_count": 191,
   "metadata": {},
   "outputs": [],
   "source": [
    "\n",
    "\n",
    "@tf.function\n",
    "def tf_fwdmodel(x, A):\n",
    "    return tf.matmul(x, A)\n",
    "\n",
    "# @tf.function\n",
    "# def tf_loss(x, y, A):\n",
    "#     term1 = 0.5 * tf.matmul(x, tf.matmul(tf.transpose(A), tf.matmul(A, tf.transpose(x)))) \n",
    "#     term2 = - tf.matmul(y, tf.matmul(A, tf.transpose(x)))\n",
    "#     return term2 + term2\n",
    "\n",
    "# @tf.function\n",
    "# def tf_loss(x, y, A):\n",
    "#     print('loss')\n",
    "#     l = x.shape[1]\n",
    "#     n = tf.constant(x.shape[0])\n",
    "#     i = 0\n",
    "#     term1 = tf.TensorArray(tf.float32, size=n)\n",
    "#     term2 = tf.TensorArray(tf.float32, size=n)\n",
    "#     while tf.less(i, n):\n",
    "#         x_t, y_t = tf.expand_dims(x[i], 0), tf.expand_dims(y[i], 0)\n",
    "#         term1 = term1.write(i, 0.5 * tf.matmul(x_t, tf.matmul(tf.transpose(A[i]), tf.matmul(A[i], tf.transpose(x_t))))) \n",
    "#         term2 = term2.write(i,  - tf.matmul(y_t, tf.matmul(A[i], tf.transpose(x_t))))\n",
    "#         i = i+1\n",
    "#     return tf.reduce_sum(term1.stack() + term2.stack())\n",
    "\n",
    "@tf.function(\n",
    "    input_signature=[tf.TensorSpec(shape=(None, 2), dtype=tf.float32), \n",
    "                    tf.TensorSpec(shape=(None, 2), dtype=tf.float32), \n",
    "                    tf.TensorSpec(shape=(None, 2, 2), dtype=tf.float32)])\n",
    "def tf_loss(x, y, A):\n",
    "    print('loss')\n",
    "    x_t, y_t = tf.expand_dims(x, 1), tf.expand_dims(y, 1)\n",
    "    term1 = tf.vectorized_map(lambda a: 0.5 * tf.matmul(a[0], tf.matmul(tf.transpose(a[1]), tf.matmul(a[1], tf.transpose(a[0])))),\n",
    "                      (x_t, A))\n",
    "    term2 = tf.vectorized_map(lambda a: - tf.matmul(a[1], tf.matmul(a[2], tf.transpose(a[0]))), \n",
    "                      (x_t, y_t, A))\n",
    "    return tf.reduce_sum(term1 + term2)\n",
    "\n",
    "\n",
    "@tf.function\n",
    "def grad(x, y, A):\n",
    "    print('grad')\n",
    "    with tf.GradientTape() as tape:\n",
    "        tape.watch(x)\n",
    "        loss = tf_loss(x, y, A)\n",
    "    grad = tape.gradient(loss, x)\n",
    "    return grad\n",
    "\n",
    "\n",
    "\n",
    "@tf.function\n",
    "def augmented_step_full(x, states, y, A):\n",
    "    print('graph')\n",
    "    gradient = grad(x, y, A)\n",
    "    inp = tf.concat([y, gradient], axis=-1)\n",
    "    return cell(inp, states)                        \n",
    "\n",
    "@tf.function\n",
    "def augmented_step(x, states):\n",
    "    print('aug step')\n",
    "    gradient = grad(x, yy, A)\n",
    "    xconcat = tf.concat([x, gradient], axis=-1)\n",
    "    return cell(xconcat, states)                        \n",
    "\n",
    "\n",
    "@tf.function\n",
    "def tf_fwdrim(x, y, A, initstates=None):\n",
    "    print('tf_fwdrim')\n",
    "    if initstates is None: \n",
    "        initstates = [states[0]*0, states[1]*0]\n",
    "    step = lambda x, states: augmented_step_full(x, states, \n",
    "                                              tf.constant(y), \n",
    "                                              tf.constant(A))\n",
    "    return step(tf.constant(y), initstates)\n",
    "    out = rim(step, tf.constant(y), initstates, 10)\n",
    "    return out\n",
    "\n",
    "\n",
    "# @tf.function\n",
    "# def tf_fwdrim(x, y, A, initstates=None):\n",
    "    \n",
    "#     if initstates is None: \n",
    "#         initstates = [tf.constant(yy*0), tf.constant(yy*0)]\n",
    "        \n",
    "#     step = lambda x, states: augmented_step_full(x, states, \n",
    "#                                               tf.constant(yy*float32(np.random.normal(0, 1, 1))), \n",
    "#                                               tf.constant(A*float32(np.random.normal(0, 1, 1))))\n",
    "# #     def step(x, states):\n",
    "# #         print('graph')\n",
    "# #         gradient = grad(x, tf.constant(y), tf.constant(A))\n",
    "# #         inp = tf.concat([y, gradient], axis=-1)\n",
    "# #         return cell(inp, states)                        \n",
    "# #     return step(tf.constant(y), initstates)\n",
    "#     out = rim(step, tf.constant(y), initstates)\n",
    "# #     out = rim(augmented_step, tf.constant(y), initstates)\n",
    "#     return out\n",
    "\n",
    "\n",
    "@tf.function\n",
    "def tf_fwdrim_loop(x, y, A, initstates=None):\n",
    "    print('tf_fwdrim_loop')    \n",
    "    if initstates is None: \n",
    "        initstates = [y*0., y*0.]\n",
    "        \n",
    "    step = lambda x, states: augmented_step_full(x, states, \n",
    "#                                               tf.constant(yy*(np.random.normal(0, 1, 1))), \n",
    "#                                               tf.constant(A*(np.random.normal(0, 1, 1))))\n",
    "                                              y, A)\n",
    "\n",
    "    outputs_ta = tf.TensorArray(size=niter, dtype=tf.float32)\n",
    "    states_ta = tf.TensorArray(size=niter, dtype=tf.float32)\n",
    "\n",
    "    def body(i, output_ta, states, state_ta):    \n",
    "        new_output, new_state = step(y, states)\n",
    "        output_ta = output_ta.write(i, new_output)\n",
    "        state_ta = state_ta.write(i, new_state)\n",
    "        return i +1 , output_ta, new_state, state_ta\n",
    "    \n",
    "    def cond(i, outputs_ta, states, state_ta):\n",
    "        return i < niter\n",
    "\n",
    "    final_output = tf.while_loop(\n",
    "        cond,\n",
    "        body,\n",
    "        loop_vars=[\n",
    "            0, outputs_ta, initstates, states_ta\n",
    "        ],\n",
    "        )\n",
    "    \n",
    "    return final_output[1].stack(), final_output[3].stack()\n",
    "\n",
    "\n",
    "@tf.function\n",
    "def tf_fwdrim_loop2(x, y, A, initstates=None):\n",
    "    print('tf_fwdrim_loop2')\n",
    "    if initstates is None: \n",
    "        initstates = [y*0., y*0.]\n",
    "        \n",
    "    outputs_ta = tf.TensorArray(size=niter, dtype=tf.float32)\n",
    "    states_ta = tf.TensorArray(size=niter, dtype=tf.float32)\n",
    "\n",
    "    def body(i, output_ta, states, state_ta):  \n",
    "        gradient = grad(x, y, A)\n",
    "        xconcat = tf.concat([y, gradient], axis=-1)\n",
    "        print(xconcat.shape, states[0].shape, states[1].shape)\n",
    "        new_output, new_state = cell(xconcat, states)\n",
    "        output_ta = output_ta.write(i, new_output)\n",
    "        state_ta = state_ta.write(i, new_state)\n",
    "        return i +1 , output_ta, new_state, state_ta\n",
    "    \n",
    "    i = tf.constant(0, dtype=tf.int32)\n",
    "    curr_state = initstates\n",
    "    while tf.less(i, tf.constant(niter)):\n",
    "        i, outputs_ta, curr_state, states_ta =  body(i, outputs_ta, curr_state, states_ta)\n",
    "    \n",
    "    return outputs_ta.stack(), states_ta.stack()\n"
   ]
  },
  {
   "cell_type": "code",
   "execution_count": 146,
   "metadata": {},
   "outputs": [
    {
     "name": "stdout",
     "output_type": "stream",
     "text": [
      "tf_fwdrim_loop2\n",
      "grad\n",
      "loss\n",
      "(100, 4) (100, 2) (100, 2)\n"
     ]
    }
   ],
   "source": [
    "# tf_fwdrim(tf.constant(X_train[idx], Y_train[idx], A_train[idx]))\n",
    "idx = np.random.randint(0, X_train.shape[0], 100)\n",
    "xx, yy, A = X_train[idx].astype(float32), Y_train[idx].astype(float32), A_train[idx].astype(float32)\n",
    "out = tf_fwdrim_loop2(tf.constant(X_train[idx]), tf.constant(Y_train[idx]), tf.constant(A_train[idx]))\n",
    "out[0];\n",
    "# for i in range(100):\n",
    "#     out = tf_fwdrim_loop(tf.constant(X_train[idx]), tf.constant(Y_train[idx]), tf.constant(A_train[0]))\n"
   ]
  },
  {
   "cell_type": "code",
   "execution_count": 147,
   "metadata": {},
   "outputs": [
    {
     "name": "stdout",
     "output_type": "stream",
     "text": [
      "aug step\n"
     ]
    }
   ],
   "source": [
    "# for i in range(20):\n",
    "#     augmented_step(tf.constant(yy), [tf.constant(yy)*0, tf.constant(yy)*0])    \n",
    "    \n",
    "# for i in range(30):\n",
    "#     rim(augmented_step, tf.constant(yy), [tf.constant(yy)*np.random.randint(1), \n",
    "#                                           tf.constant(yy)**np.random.randint(1)]);\n"
   ]
  },
  {
   "cell_type": "code",
   "execution_count": 89,
   "metadata": {},
   "outputs": [],
   "source": [
    "# for i in range(10):\n",
    "#     tf_fwdrim(tf.constant(X_train[idx]), tf.constant(Y_train[idx]), tf.constant(A_train[0]))\n",
    "\n",
    "# %%timeit \n",
    "\n",
    "# for i in range(100):\n",
    "#     lstep = lambda x, states: augmented_step_full(x, states, \n",
    "#                                               tf.constant(yy*float32(np.random.normal(0, 1, 1))), \n",
    "#                                               tf.constant(A*float32(np.random.normal(0, 1, 1))))\n",
    "#     out = rim(lstep, tf.constant(yy), states, 5)\n"
   ]
  },
  {
   "cell_type": "code",
   "execution_count": 214,
   "metadata": {},
   "outputs": [],
   "source": [
    "class myRIM(tf.keras.Model):\n",
    "\n",
    "    def __init__(self, cell, niter):\n",
    "        super(myRIM, self).__init__()\n",
    "        self.cell = cell\n",
    "        self.niter = niter\n",
    "\n",
    "            \n",
    "    def call(self, x_init, y, grad_fn, grad_args, initstates = None, return_steps=False):\n",
    "        \n",
    "        outputs_ta = tf.TensorArray(size=self.niter+1, dtype=tf.float32)\n",
    "        states_ta = tf.TensorArray(size=self.niter+1, dtype=tf.float32)\n",
    "        \n",
    "        if initstates is None: \n",
    "            initstates = [x_init, x_init*0.]\n",
    "    \n",
    "#         def body(i, output_ta, states, state_ta):  \n",
    "#             gradient = grad_fn(states[0], y, *grad_args)\n",
    "#             cell_state_concat = tf.concat([y, gradient], axis=-1)\n",
    "#             new_output, new_state = self.cell(cell_state_concat, states)\n",
    "#             output_ta = output_ta.write(i, new_output)\n",
    "#             state_ta = state_ta.write(i, new_state)\n",
    "#             return i +1 , output_ta, new_state, state_ta\n",
    "\n",
    "#         def cond(i, outputs_ta, states, state_ta):\n",
    "#             return i < niter\n",
    "#         final_output = tf.while_loop(\n",
    "#             cond, body, loop_vars=[0, self.outputs_ta, initstates, self.states_ta])\n",
    "#         return final_output[1].stack(), final_output[3].stack()\n",
    "\n",
    "    \n",
    "        i = tf.constant(0, dtype=tf.int32)\n",
    "        curr_state = initstates\n",
    "        curr_pos = x_init\n",
    "        \n",
    "        def body(i, pos, states):  \n",
    "            gradient = grad_fn(pos, y, *grad_args)\n",
    "            cell_state_concat = tf.concat([y, gradient], axis=-1)\n",
    "            new_pos, new_state = self.cell(cell_state_concat, states)\n",
    "            return i +1 , new_pos, new_state\n",
    "        \n",
    "        while tf.less(i, tf.constant(self.niter)):\n",
    "            outputs_ta = outputs_ta.write(i, curr_pos)\n",
    "            states_ta = states_ta.write(i, curr_state)\n",
    "            i, curr_pos, curr_state =  body(i, curr_pos, curr_state)\n",
    "        outputs_ta = outputs_ta.write(i, curr_pos)\n",
    "        states_ta = states_ta.write(i, curr_state)\n",
    "\n",
    "        return outputs_ta.stack(), states_ta.stack()\n"
   ]
  },
  {
   "cell_type": "code",
   "execution_count": 215,
   "metadata": {},
   "outputs": [],
   "source": [
    "cell = LSTMCell(2)\n",
    "cell.build(input_shape=[None, 4])\n",
    "testrim = myRIM(cell, niter=10)\n",
    "\n",
    "\n",
    "idx = np.random.randint(0, X_train.shape[0], 10)\n",
    "xinit, xx, yy, A = X0_train[idx].astype(float32), X_train[idx].astype(float32), Y_train[idx].astype(float32), A_train[idx]\n",
    "out, states = testrim(x_init=tf.constant(xx), y=tf.constant(yy), grad_fn=grad, grad_args=[tf.constant(A)])\n",
    "\n"
   ]
  },
  {
   "cell_type": "code",
   "execution_count": 216,
   "metadata": {},
   "outputs": [],
   "source": [
    "# testcell = LSTMCell(2)\n",
    "# xinp = tf.concat([tf.constant(yy), tf.constant(xx)], axis=-1)\n",
    "# teststates = [tf.constant(yy)*0, tf.constant(yy)*0]\n",
    "# testcell(xinp, teststates)"
   ]
  },
  {
   "cell_type": "code",
   "execution_count": 279,
   "metadata": {},
   "outputs": [],
   "source": [
    "# Create an optimizer for Adam.                                                                                                                           \n",
    "opt = tf.keras.optimizers.Adam(learning_rate=10)\n",
    "\n",
    "\n",
    "# @tf.function\n",
    "def rim_train(x_true, x_init, y, A):\n",
    "    with tf.GradientTape() as tape:\n",
    "        x_pred, states = testrim(x_init, y, grad, [A])\n",
    "        loss = tf.reduce_mean(tf.square((x_true- x_pred)))\n",
    "    gradients = tape.gradient(loss, testrim.trainable_variables)\n",
    "    opt.apply_gradients(zip(gradients, testrim.trainable_variables))\n",
    "    return loss\n",
    "    \n",
    "    "
   ]
  },
  {
   "cell_type": "code",
   "execution_count": 271,
   "metadata": {},
   "outputs": [],
   "source": [
    "# idx = np.random.randint(0, X_train.shape[0], 100)\n",
    "# xinit, xx, yy = X0_train[idx].astype(float32), X_train[idx].astype(float32), Y_train[idx].astype(float32)\n",
    "\n",
    "# with tf.GradientTape() as tape:\n",
    "#     tape.watch(testrim.trainable_variables)\n",
    "#     out, states = testrim(tf.constant(xinit),  tf.constant(yy), grad, [tf.constant(A)])\n",
    "#     testloss = tf.reduce_sum((out - tf.constant(xx)**2))\n",
    "# testgrads  = tape.gradient(testloss, testrim.trainable_variables)\n",
    "    \n"
   ]
  },
  {
   "cell_type": "code",
   "execution_count": 280,
   "metadata": {},
   "outputs": [],
   "source": [
    "# idx = np.random.randint(0, X_train.shape[0], 32)\n",
    "# xx, yy, A = X_train[idx].astype(float32), Y_train[idx].astype(float32), A_train[idx]\n",
    "\n",
    "losses = []\n",
    "for i in range(100):\n",
    "    idx = np.random.randint(0, X_train.shape[0], 32)\n",
    "    xinit, xx, yy, A = X0_train[idx].astype(float32), X_train[idx].astype(float32), Y_train[idx].astype(float32), A_train[idx]\n",
    "    losses.append(rim_train(tf.constant(xx), tf.constant(xinit), tf.constant(yy), tf.constant(A)).numpy())\n",
    "#     testrim(tf.constant(xinit), tf.constant(yy), grad, [tf.constant(A)])\n",
    "#     print(testrim.cell.kernel)    "
   ]
  },
  {
   "cell_type": "code",
   "execution_count": 281,
   "metadata": {},
   "outputs": [
    {
     "data": {
      "text/plain": [
       "[]"
      ]
     },
     "execution_count": 281,
     "metadata": {},
     "output_type": "execute_result"
    },
    {
     "data": {
      "image/png": "[encoded data removed]",
      "text/plain": [
       "<Figure size 1440x504 with 1 Axes>"
      ]
     },
     "metadata": {
      "needs_background": "light"
     },
     "output_type": "display_data"
    }
   ],
   "source": [
    "plt.plot(losses)\n",
    "plt.loglog()"
   ]
  },
  {
   "cell_type": "code",
   "execution_count": 237,
   "metadata": {},
   "outputs": [],
   "source": [
    "idx = np.random.randint(0, X_train.shape[0], 32)\n",
    "xinit, xx, yy, A = X0_train[idx].astype(float32), X_train[idx].astype(float32), Y_train[idx].astype(float32), A_train[idx]\n",
    "out = testrim(tf.constant(xinit), tf.constant(yy), grad, [tf.constant(A)])\n",
    "pred = out[0].numpy()\n",
    "cstate = out[1][:, 0]"
   ]
  },
  {
   "cell_type": "code",
   "execution_count": 239,
   "metadata": {},
   "outputs": [
    {
     "data": {
      "text/plain": [
       "array([1.], dtype=float32)"
      ]
     },
     "execution_count": 239,
     "metadata": {},
     "output_type": "execute_result"
    }
   ],
   "source": [
    "np.unique(cstate/pred)"
   ]
  },
  {
   "cell_type": "code",
   "execution_count": 246,
   "metadata": {},
   "outputs": [],
   "source": [
    "np.array([np.dot(A[i], xx[i]) for i in range(xx.shape[0])]) /yy;"
   ]
  },
  {
   "cell_type": "code",
   "execution_count": 252,
   "metadata": {},
   "outputs": [
    {
     "data": {
      "text/plain": [
       "array([[0.99999964, 1.0000015 ],\n",
       "       [1.0000002 , 1.0000316 ],\n",
       "       [1.000001  , 1.000003  ],\n",
       "       [1.        , 0.9999999 ],\n",
       "       [0.99997586, 1.0000067 ],\n",
       "       [0.99999934, 1.0000075 ],\n",
       "       [0.99999636, 1.0000004 ],\n",
       "       [0.99999756, 1.0000031 ],\n",
       "       [1.0000107 , 1.0000173 ],\n",
       "       [1.0000012 , 0.99999964],\n",
       "       [1.        , 0.9999971 ],\n",
       "       [1.0000124 , 1.0000006 ],\n",
       "       [0.99999887, 0.99999017],\n",
       "       [0.99997056, 1.0000035 ],\n",
       "       [0.99998957, 1.000179  ],\n",
       "       [0.99999577, 1.0000002 ],\n",
       "       [0.99999845, 0.9999934 ],\n",
       "       [1.0000002 , 1.0000005 ],\n",
       "       [1.0000018 , 0.99999994],\n",
       "       [0.9999956 , 1.0000004 ],\n",
       "       [1.0000001 , 0.99999917],\n",
       "       [1.0000201 , 0.9999867 ],\n",
       "       [1.0000008 , 0.9999913 ],\n",
       "       [0.99999976, 0.9999996 ],\n",
       "       [0.9999997 , 1.0000004 ],\n",
       "       [0.99993557, 1.000004  ],\n",
       "       [0.99998957, 1.000179  ],\n",
       "       [0.99999964, 1.0000005 ],\n",
       "       [1.0000006 , 0.9999999 ],\n",
       "       [1.0000005 , 1.0000157 ],\n",
       "       [1.0000002 , 1.0000039 ],\n",
       "       [1.0000001 , 1.000001  ]], dtype=float32)"
      ]
     },
     "execution_count": 252,
     "metadata": {},
     "output_type": "execute_result"
    }
   ],
   "source": [
    "a = np.array([gradient(xx[i], yy[i], A[i]) for i in range(xx.shape[0])])\n",
    "b = grad(tf.constant(xx), tf.constant(yy), tf.constant(A)).numpy()\n",
    "a/b"
   ]
  },
  {
   "cell_type": "code",
   "execution_count": null,
   "metadata": {},
   "outputs": [],
   "source": []
  }
 ],
 "metadata": {
  "kernelspec": {
   "display_name": "tensorflow-v2.2.0-gpu",
   "language": "python",
   "name": "tensorflow_gpu_2.2.0-py37"
  },
  "language_info": {
   "codemirror_mode": {
    "name": "ipython",
    "version": 3
   },
   "file_extension": ".py",
   "mimetype": "text/x-python",
   "name": "python",
   "nbconvert_exporter": "python",
   "pygments_lexer": "ipython3",
   "version": "3.7.4"
  }
 },
 "nbformat": 4,
 "nbformat_minor": 4
}
